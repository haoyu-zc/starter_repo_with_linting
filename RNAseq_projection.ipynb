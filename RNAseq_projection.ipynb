{
 "cells": [
  {
   "cell_type": "markdown",
   "metadata": {},
   "source": [
    "# DAISY RNAseq data projection\n",
    "\n",
    "This notebook project RNA sequencing data into a Latent Space representing gene modules that are co expressed given various conditions, cell types, ... \n",
    "\n",
    "Sakaiza Rasolofomanana Rajery\n",
    "\n",
    "12/19/2024"
   ]
  },
  {
   "cell_type": "markdown",
   "metadata": {},
   "source": [
    "## load packages"
   ]
  },
  {
   "cell_type": "code",
   "execution_count": 16,
   "metadata": {},
   "outputs": [],
   "source": [
    "library(tidyverse,warn.conflicts=FALSE)\n",
    "library(reticulate)\n",
    "library(MASS,warn.conflicts=FALSE)\n",
    "library(devtools,warn.conflicts=FALSE)\n",
    "library(PLIER,warn.conflicts=FALSE)\n",
    "#install_github(\"wgmao/PLIER\")"
   ]
  },
  {
   "cell_type": "code",
   "execution_count": 17,
   "metadata": {},
   "outputs": [],
   "source": [
    "# srouce plier_util to get function GetnewdataB \n",
    "source('scripts/plier_util.R')"
   ]
  },
  {
   "cell_type": "code",
   "execution_count": 18,
   "metadata": {},
   "outputs": [],
   "source": [
    "# use GetOrderedRowNormEM function from Marc to order matrices\n",
    "GetOrderedRowNormEM <- function(exprs.mat, plier.model) {\n",
    "\n",
    "    require(PLIER)\n",
    "    \n",
    "    # Z-score normalization\n",
    "    exprs.norm <- rowNorm(exprs.mat)\n",
    "    exprs.norm <- na.omit(exprs.norm)\n",
    "    \n",
    "    z.mat <- plier.model$Z\n",
    "    genes.in.model <- rownames(z.mat)\n",
    "    genes_in_exprs <- rownames(exprs.norm)\n",
    "    \n",
    "    # Find the common genes\n",
    "    common_genes <- intersect(genes_in_exprs, genes.in.model)\n",
    "    \n",
    "    # Filter the matrices based on the common genes\n",
    "    exprs.norm.filtered <- exprs.norm[common_genes, , drop = FALSE]\n",
    "    z.mat.filtered <- z.mat[common_genes, , drop = FALSE]\n",
    "        \n",
    "  # Update the plier.model with the new Z matrix\n",
    "  plier.model$Z <- z.mat.filtered\n",
    "\n",
    "  # Return the updated plier.model and the filtered exprs.norm\n",
    "  list(plier.model = plier.model, exprs.norm.filtered = exprs.norm.filtered)\n",
    "\n",
    "}"
   ]
  },
  {
   "cell_type": "markdown",
   "metadata": {},
   "source": [
    "## load data: RNA seq, Matrices, name to ID, metada"
   ]
  },
  {
   "cell_type": "markdown",
   "metadata": {},
   "source": [
    "### RNA_seq data"
   ]
  },
  {
   "cell_type": "code",
   "execution_count": 19,
   "metadata": {},
   "outputs": [
    {
     "name": "stdout",
     "output_type": "stream",
     "text": [
      " num [1:22236, 1:136] 0.031 -0.0478 -0.0553 0.0398 -0.1755 ...\n",
      " - attr(*, \"dimnames\")=List of 2\n",
      "  ..$ : chr [1:22236] \"ENSG00000000003\" \"ENSG00000000419\" \"ENSG00000000457\" \"ENSG00000000460\" ...\n",
      "  ..$ : chr [1:136] \"00041-0\" \"00110-0\" \"00139-0\" \"00159-0\" ...\n"
     ]
    },
    {
     "data": {
      "text/html": [
       "<table class=\"dataframe\">\n",
       "<caption>A matrix: 5 × 136 of type dbl</caption>\n",
       "<thead>\n",
       "\t<tr><th></th><th scope=col>00041-0</th><th scope=col>00110-0</th><th scope=col>00139-0</th><th scope=col>00159-0</th><th scope=col>00174-0</th><th scope=col>00177-0</th><th scope=col>00181-0</th><th scope=col>00234-0</th><th scope=col>00250-0</th><th scope=col>00266-0</th><th scope=col>⋯</th><th scope=col>39376-0</th><th scope=col>39390-0</th><th scope=col>50136-0</th><th scope=col>62291-0</th><th scope=col>81801-0</th><th scope=col>84002-0</th><th scope=col>84689-0</th><th scope=col>84731-0</th><th scope=col>84860-0</th><th scope=col>85365-0</th></tr>\n",
       "</thead>\n",
       "<tbody>\n",
       "\t<tr><th scope=row>ENSG00000000003</th><td> 0.03095809</td><td>-0.07856905</td><td> 0.1918862</td><td>-0.171697815</td><td>-0.05682264</td><td>-0.14436092</td><td>-0.15973690</td><td> 0.15962816</td><td> 0.04597725</td><td>-0.05037662</td><td>⋯</td><td> 0.03481634</td><td>-0.11353805</td><td>-0.07546308</td><td>-0.24782141</td><td>-0.181882227</td><td>-0.15831031</td><td> 0.042505051</td><td> 0.004158849</td><td>-0.04953921</td><td>-0.07543666</td></tr>\n",
       "\t<tr><th scope=row>ENSG00000000419</th><td>-0.04781262</td><td> 0.22526729</td><td> 0.1496638</td><td> 0.008030305</td><td> 0.07860273</td><td>-0.65566596</td><td>-0.07836598</td><td>-0.08440686</td><td>-0.07336101</td><td> 0.01694056</td><td>⋯</td><td> 0.03302391</td><td>-0.17723135</td><td>-0.20278517</td><td> 0.05153863</td><td> 0.027867915</td><td> 0.14438615</td><td> 0.181057380</td><td>-0.060171420</td><td> 0.02275410</td><td> 0.09297875</td></tr>\n",
       "\t<tr><th scope=row>ENSG00000000457</th><td>-0.05528318</td><td>-0.06535310</td><td> 0.1215783</td><td> 0.042311336</td><td>-0.13641096</td><td>-0.05600516</td><td>-0.11315866</td><td>-0.02458583</td><td> 0.17706909</td><td>-0.08072746</td><td>⋯</td><td>-0.05381721</td><td>-0.06526485</td><td> 0.06076460</td><td> 0.07453007</td><td> 0.118070226</td><td>-0.02070351</td><td>-0.071758383</td><td> 0.013581220</td><td>-0.08240612</td><td> 0.05418788</td></tr>\n",
       "\t<tr><th scope=row>ENSG00000000460</th><td> 0.03975773</td><td>-0.03598026</td><td> 0.1845973</td><td>-0.036771847</td><td> 0.11839537</td><td>-0.75807634</td><td>-0.07701233</td><td> 0.05610122</td><td>-0.20000546</td><td> 0.26409694</td><td>⋯</td><td> 0.08086216</td><td> 0.04937240</td><td>-0.06226473</td><td> 0.11234436</td><td> 0.116699931</td><td> 0.04048291</td><td> 0.318198228</td><td>-0.003560572</td><td> 0.09052353</td><td> 0.07681467</td></tr>\n",
       "\t<tr><th scope=row>ENSG00000000938</th><td>-0.17548539</td><td> 0.13802186</td><td>-0.1033869</td><td> 0.120510893</td><td>-0.11488039</td><td>-0.16473877</td><td>-0.11642225</td><td>-0.04561926</td><td>-0.01971724</td><td>-0.14657057</td><td>⋯</td><td>-0.08194073</td><td>-0.11987964</td><td>-0.04133224</td><td> 0.21522278</td><td> 0.006778182</td><td> 0.10912560</td><td>-0.009714053</td><td>-0.062825872</td><td>-0.17994881</td><td> 0.04227325</td></tr>\n",
       "</tbody>\n",
       "</table>\n"
      ],
      "text/latex": [
       "A matrix: 5 × 136 of type dbl\n",
       "\\begin{tabular}{r|lllllllllllllllllllll}\n",
       "  & 00041-0 & 00110-0 & 00139-0 & 00159-0 & 00174-0 & 00177-0 & 00181-0 & 00234-0 & 00250-0 & 00266-0 & ⋯ & 39376-0 & 39390-0 & 50136-0 & 62291-0 & 81801-0 & 84002-0 & 84689-0 & 84731-0 & 84860-0 & 85365-0\\\\\n",
       "\\hline\n",
       "\tENSG00000000003 &  0.03095809 & -0.07856905 &  0.1918862 & -0.171697815 & -0.05682264 & -0.14436092 & -0.15973690 &  0.15962816 &  0.04597725 & -0.05037662 & ⋯ &  0.03481634 & -0.11353805 & -0.07546308 & -0.24782141 & -0.181882227 & -0.15831031 &  0.042505051 &  0.004158849 & -0.04953921 & -0.07543666\\\\\n",
       "\tENSG00000000419 & -0.04781262 &  0.22526729 &  0.1496638 &  0.008030305 &  0.07860273 & -0.65566596 & -0.07836598 & -0.08440686 & -0.07336101 &  0.01694056 & ⋯ &  0.03302391 & -0.17723135 & -0.20278517 &  0.05153863 &  0.027867915 &  0.14438615 &  0.181057380 & -0.060171420 &  0.02275410 &  0.09297875\\\\\n",
       "\tENSG00000000457 & -0.05528318 & -0.06535310 &  0.1215783 &  0.042311336 & -0.13641096 & -0.05600516 & -0.11315866 & -0.02458583 &  0.17706909 & -0.08072746 & ⋯ & -0.05381721 & -0.06526485 &  0.06076460 &  0.07453007 &  0.118070226 & -0.02070351 & -0.071758383 &  0.013581220 & -0.08240612 &  0.05418788\\\\\n",
       "\tENSG00000000460 &  0.03975773 & -0.03598026 &  0.1845973 & -0.036771847 &  0.11839537 & -0.75807634 & -0.07701233 &  0.05610122 & -0.20000546 &  0.26409694 & ⋯ &  0.08086216 &  0.04937240 & -0.06226473 &  0.11234436 &  0.116699931 &  0.04048291 &  0.318198228 & -0.003560572 &  0.09052353 &  0.07681467\\\\\n",
       "\tENSG00000000938 & -0.17548539 &  0.13802186 & -0.1033869 &  0.120510893 & -0.11488039 & -0.16473877 & -0.11642225 & -0.04561926 & -0.01971724 & -0.14657057 & ⋯ & -0.08194073 & -0.11987964 & -0.04133224 &  0.21522278 &  0.006778182 &  0.10912560 & -0.009714053 & -0.062825872 & -0.17994881 &  0.04227325\\\\\n",
       "\\end{tabular}\n"
      ],
      "text/markdown": [
       "\n",
       "A matrix: 5 × 136 of type dbl\n",
       "\n",
       "| <!--/--> | 00041-0 | 00110-0 | 00139-0 | 00159-0 | 00174-0 | 00177-0 | 00181-0 | 00234-0 | 00250-0 | 00266-0 | ⋯ | 39376-0 | 39390-0 | 50136-0 | 62291-0 | 81801-0 | 84002-0 | 84689-0 | 84731-0 | 84860-0 | 85365-0 |\n",
       "|---|---|---|---|---|---|---|---|---|---|---|---|---|---|---|---|---|---|---|---|---|---|\n",
       "| ENSG00000000003 |  0.03095809 | -0.07856905 |  0.1918862 | -0.171697815 | -0.05682264 | -0.14436092 | -0.15973690 |  0.15962816 |  0.04597725 | -0.05037662 | ⋯ |  0.03481634 | -0.11353805 | -0.07546308 | -0.24782141 | -0.181882227 | -0.15831031 |  0.042505051 |  0.004158849 | -0.04953921 | -0.07543666 |\n",
       "| ENSG00000000419 | -0.04781262 |  0.22526729 |  0.1496638 |  0.008030305 |  0.07860273 | -0.65566596 | -0.07836598 | -0.08440686 | -0.07336101 |  0.01694056 | ⋯ |  0.03302391 | -0.17723135 | -0.20278517 |  0.05153863 |  0.027867915 |  0.14438615 |  0.181057380 | -0.060171420 |  0.02275410 |  0.09297875 |\n",
       "| ENSG00000000457 | -0.05528318 | -0.06535310 |  0.1215783 |  0.042311336 | -0.13641096 | -0.05600516 | -0.11315866 | -0.02458583 |  0.17706909 | -0.08072746 | ⋯ | -0.05381721 | -0.06526485 |  0.06076460 |  0.07453007 |  0.118070226 | -0.02070351 | -0.071758383 |  0.013581220 | -0.08240612 |  0.05418788 |\n",
       "| ENSG00000000460 |  0.03975773 | -0.03598026 |  0.1845973 | -0.036771847 |  0.11839537 | -0.75807634 | -0.07701233 |  0.05610122 | -0.20000546 |  0.26409694 | ⋯ |  0.08086216 |  0.04937240 | -0.06226473 |  0.11234436 |  0.116699931 |  0.04048291 |  0.318198228 | -0.003560572 |  0.09052353 |  0.07681467 |\n",
       "| ENSG00000000938 | -0.17548539 |  0.13802186 | -0.1033869 |  0.120510893 | -0.11488039 | -0.16473877 | -0.11642225 | -0.04561926 | -0.01971724 | -0.14657057 | ⋯ | -0.08194073 | -0.11987964 | -0.04133224 |  0.21522278 |  0.006778182 |  0.10912560 | -0.009714053 | -0.062825872 | -0.17994881 |  0.04227325 |\n",
       "\n"
      ],
      "text/plain": [
       "                00041-0     00110-0     00139-0    00159-0      00174-0    \n",
       "ENSG00000000003  0.03095809 -0.07856905  0.1918862 -0.171697815 -0.05682264\n",
       "ENSG00000000419 -0.04781262  0.22526729  0.1496638  0.008030305  0.07860273\n",
       "ENSG00000000457 -0.05528318 -0.06535310  0.1215783  0.042311336 -0.13641096\n",
       "ENSG00000000460  0.03975773 -0.03598026  0.1845973 -0.036771847  0.11839537\n",
       "ENSG00000000938 -0.17548539  0.13802186 -0.1033869  0.120510893 -0.11488039\n",
       "                00177-0     00181-0     00234-0     00250-0     00266-0     ⋯\n",
       "ENSG00000000003 -0.14436092 -0.15973690  0.15962816  0.04597725 -0.05037662 ⋯\n",
       "ENSG00000000419 -0.65566596 -0.07836598 -0.08440686 -0.07336101  0.01694056 ⋯\n",
       "ENSG00000000457 -0.05600516 -0.11315866 -0.02458583  0.17706909 -0.08072746 ⋯\n",
       "ENSG00000000460 -0.75807634 -0.07701233  0.05610122 -0.20000546  0.26409694 ⋯\n",
       "ENSG00000000938 -0.16473877 -0.11642225 -0.04561926 -0.01971724 -0.14657057 ⋯\n",
       "                39376-0     39390-0     50136-0     62291-0     81801-0     \n",
       "ENSG00000000003  0.03481634 -0.11353805 -0.07546308 -0.24782141 -0.181882227\n",
       "ENSG00000000419  0.03302391 -0.17723135 -0.20278517  0.05153863  0.027867915\n",
       "ENSG00000000457 -0.05381721 -0.06526485  0.06076460  0.07453007  0.118070226\n",
       "ENSG00000000460  0.08086216  0.04937240 -0.06226473  0.11234436  0.116699931\n",
       "ENSG00000000938 -0.08194073 -0.11987964 -0.04133224  0.21522278  0.006778182\n",
       "                84002-0     84689-0      84731-0      84860-0     85365-0    \n",
       "ENSG00000000003 -0.15831031  0.042505051  0.004158849 -0.04953921 -0.07543666\n",
       "ENSG00000000419  0.14438615  0.181057380 -0.060171420  0.02275410  0.09297875\n",
       "ENSG00000000457 -0.02070351 -0.071758383  0.013581220 -0.08240612  0.05418788\n",
       "ENSG00000000460  0.04048291  0.318198228 -0.003560572  0.09052353  0.07681467\n",
       "ENSG00000000938  0.10912560 -0.009714053 -0.062825872 -0.17994881  0.04227325"
      ]
     },
     "metadata": {},
     "output_type": "display_data"
    },
    {
     "data": {
      "text/html": [
       "<style>\n",
       ".list-inline {list-style: none; margin:0; padding: 0}\n",
       ".list-inline>li {display: inline-block}\n",
       ".list-inline>li:not(:last-child)::after {content: \"\\00b7\"; padding: 0 .5ex}\n",
       "</style>\n",
       "<ol class=list-inline><li>22236</li><li>136</li></ol>\n"
      ],
      "text/latex": [
       "\\begin{enumerate*}\n",
       "\\item 22236\n",
       "\\item 136\n",
       "\\end{enumerate*}\n"
      ],
      "text/markdown": [
       "1. 22236\n",
       "2. 136\n",
       "\n",
       "\n"
      ],
      "text/plain": [
       "[1] 22236   136"
      ]
     },
     "metadata": {},
     "output_type": "display_data"
    }
   ],
   "source": [
    "# path to rna dataset\n",
    "path_to_rna <- \"/Users/rasolofs/Library/CloudStorage/OneDrive-TheUniversityofColoradoDenver/DAISY RNA Phenoplier\"\n",
    "#raw value at visit 1 and 2\n",
    "#RNAseq_1_Raw <- readRDS(\"RNA_Visit_1.RDS\")\n",
    "#RNAseq_2_Raw <- readRDS(\"RNA_Visit_2.RDS\")\n",
    "\n",
    "#r-log adjusted for age, sex and ancestry at visit 1 and 2\n",
    "RNAseq_1_res <- as.matrix(readRDS(paste0(path_to_rna,\"/RNA_Visit_1_Residuals.RDS\")))\n",
    "#RNAseq_2_res <- readRDS(\"RNA_Visit_2_Residuals.RDS\")\n",
    "\n",
    "#RNA_annot <- readRDS(\"Expression_Annotation.RDS\")\n",
    "#RNA_pheno <- read_csv(\"DAISY_RNASeq_Phenotype_Deidentified.csv\")\n",
    "\n",
    "str(RNAseq_1_res)\n",
    "head(RNAseq_1_res,5)\n",
    "dim(RNAseq_1_res)"
   ]
  },
  {
   "cell_type": "markdown",
   "metadata": {},
   "source": [
    "### name to ensemble_id file"
   ]
  },
  {
   "cell_type": "code",
   "execution_count": 20,
   "metadata": {},
   "outputs": [
    {
     "data": {
      "text/html": [
       "<table class=\"dataframe\">\n",
       "<caption>A data.frame: 5 × 2</caption>\n",
       "<thead>\n",
       "\t<tr><th></th><th scope=col>EnsemblID</th><th scope=col>gene</th></tr>\n",
       "\t<tr><th></th><th scope=col>&lt;chr&gt;</th><th scope=col>&lt;chr&gt;</th></tr>\n",
       "</thead>\n",
       "<tbody>\n",
       "\t<tr><th scope=row>1</th><td>ENSG00000000457</td><td>SCYL3</td></tr>\n",
       "\t<tr><th scope=row>2</th><td>ENSG00000000938</td><td>FGR  </td></tr>\n",
       "\t<tr><th scope=row>3</th><td>ENSG00000000971</td><td>CFH  </td></tr>\n",
       "\t<tr><th scope=row>4</th><td>ENSG00000001036</td><td>FUCA2</td></tr>\n",
       "\t<tr><th scope=row>5</th><td>ENSG00000001084</td><td>GCLC </td></tr>\n",
       "</tbody>\n",
       "</table>\n"
      ],
      "text/latex": [
       "A data.frame: 5 × 2\n",
       "\\begin{tabular}{r|ll}\n",
       "  & EnsemblID & gene\\\\\n",
       "  & <chr> & <chr>\\\\\n",
       "\\hline\n",
       "\t1 & ENSG00000000457 & SCYL3\\\\\n",
       "\t2 & ENSG00000000938 & FGR  \\\\\n",
       "\t3 & ENSG00000000971 & CFH  \\\\\n",
       "\t4 & ENSG00000001036 & FUCA2\\\\\n",
       "\t5 & ENSG00000001084 & GCLC \\\\\n",
       "\\end{tabular}\n"
      ],
      "text/markdown": [
       "\n",
       "A data.frame: 5 × 2\n",
       "\n",
       "| <!--/--> | EnsemblID &lt;chr&gt; | gene &lt;chr&gt; |\n",
       "|---|---|---|\n",
       "| 1 | ENSG00000000457 | SCYL3 |\n",
       "| 2 | ENSG00000000938 | FGR   |\n",
       "| 3 | ENSG00000000971 | CFH   |\n",
       "| 4 | ENSG00000001036 | FUCA2 |\n",
       "| 5 | ENSG00000001084 | GCLC  |\n",
       "\n"
      ],
      "text/plain": [
       "  EnsemblID       gene \n",
       "1 ENSG00000000457 SCYL3\n",
       "2 ENSG00000000938 FGR  \n",
       "3 ENSG00000000971 CFH  \n",
       "4 ENSG00000001036 FUCA2\n",
       "5 ENSG00000001084 GCLC "
      ]
     },
     "metadata": {},
     "output_type": "display_data"
    }
   ],
   "source": [
    "#load pickle data to convert gene name to EnsemblID\n",
    "py_data <- py_load_object(\"data/input/genes_mapping_id_to_name.pkl\")\n",
    "data_t <- data.frame(t(data.frame(py_data)))\n",
    "colnames(data_t) <- \"gene\"\n",
    "name_to_ID <- rownames_to_column(data_t, var = \"EnsemblID\")\n",
    "head(name_to_ID,5)"
   ]
  },
  {
   "cell_type": "markdown",
   "metadata": {},
   "source": [
    "### metadata file"
   ]
  },
  {
   "cell_type": "code",
   "execution_count": 21,
   "metadata": {},
   "outputs": [
    {
     "name": "stdout",
     "output_type": "stream",
     "text": [
      "$L1\n",
      "[1] 120.5661\n",
      "\n",
      "$L2\n",
      "[1] 241.1322\n",
      "\n",
      "$L3\n",
      "[1] 0.01269676\n",
      "\n"
     ]
    }
   ],
   "source": [
    "# Import model metadata file to re-build plier model\n",
    "metadata <- readRDS(\"data/input/multiplier_model_metadata.rds\")\n",
    "print(metadata)"
   ]
  },
  {
   "cell_type": "markdown",
   "metadata": {},
   "source": [
    "### Multiplier matrices"
   ]
  },
  {
   "cell_type": "code",
   "execution_count": 22,
   "metadata": {},
   "outputs": [
    {
     "data": {
      "text/html": [
       "<table class=\"dataframe\">\n",
       "<caption>A matrix: 5 × 37032 of type dbl</caption>\n",
       "<thead>\n",
       "\t<tr><th></th><th scope=col>SRP000599.SRR013549</th><th scope=col>SRP000599.SRR013550</th><th scope=col>SRP000599.SRR013551</th><th scope=col>SRP000599.SRR013552</th><th scope=col>SRP000599.SRR013553</th><th scope=col>SRP000599.SRR013554</th><th scope=col>SRP000599.SRR013555</th><th scope=col>SRP000599.SRR013556</th><th scope=col>SRP000599.SRR013557</th><th scope=col>SRP000599.SRR013558</th><th scope=col>⋯</th><th scope=col>SRP035599.SRR1139372</th><th scope=col>SRP035599.SRR1139393</th><th scope=col>SRP035599.SRR1139388</th><th scope=col>SRP035599.SRR1139378</th><th scope=col>SRP035599.SRR1139399</th><th scope=col>SRP035599.SRR1139386</th><th scope=col>SRP035599.SRR1139375</th><th scope=col>SRP035599.SRR1139382</th><th scope=col>SRP035599.SRR1139356</th><th scope=col>SRP035599.SRR1139370</th></tr>\n",
       "</thead>\n",
       "<tbody>\n",
       "\t<tr><th scope=row>1,REACTOME_MRNA_SPLICING</th><td>-0.059296689</td><td>-0.047909034</td><td>-0.049366085</td><td>-0.065078034</td><td>-0.036394186</td><td>-0.046432986</td><td>-0.040980500</td><td>-0.040068202</td><td>-0.046137392</td><td>-0.048547681</td><td>⋯</td><td> 0.028219530</td><td> 0.035137107</td><td> 0.065077330</td><td> 0.078143650</td><td> 0.092361864</td><td> 0.069042346</td><td> 0.090913845</td><td> 0.096341467</td><td> 0.13111465</td><td> 0.171751422</td></tr>\n",
       "\t<tr><th scope=row>2,SVM Monocytes</th><td> 0.006212678</td><td> 0.003625471</td><td> 0.006604582</td><td> 0.009258006</td><td> 0.005061427</td><td> 0.004132735</td><td> 0.008950264</td><td> 0.007226716</td><td> 0.007240987</td><td> 0.005709697</td><td>⋯</td><td>-0.050455152</td><td>-0.034501970</td><td>-0.033640290</td><td>-0.049702173</td><td>-0.037425739</td><td>-0.050069528</td><td>-0.022575052</td><td>-0.055091302</td><td>-0.05686929</td><td>-0.018072570</td></tr>\n",
       "\t<tr><th scope=row>3,REACTOME_TRANSMISSION_ACROSS_CHEMICAL_SYNAPSES</th><td>-0.026105335</td><td>-0.032232060</td><td>-0.020621382</td><td>-0.027598555</td><td>-0.035248076</td><td>-0.038700769</td><td>-0.032527087</td><td>-0.030592727</td><td>-0.028937277</td><td>-0.027405660</td><td>⋯</td><td>-0.028609689</td><td>-0.033449754</td><td>-0.030583001</td><td>-0.032399106</td><td>-0.029365381</td><td>-0.025405876</td><td>-0.033657228</td><td>-0.031317680</td><td>-0.03092424</td><td>-0.027868614</td></tr>\n",
       "\t<tr><th scope=row>4,REACTOME_NEURONAL_SYSTEM</th><td>-0.022079745</td><td>-0.008970910</td><td>-0.020341711</td><td>-0.016260213</td><td>-0.003022898</td><td> 0.002442659</td><td>-0.020457842</td><td>-0.023735309</td><td>-0.021581483</td><td>-0.022477572</td><td>⋯</td><td>-0.037122216</td><td>-0.029658154</td><td>-0.036349546</td><td>-0.039253549</td><td>-0.035204624</td><td>-0.036345061</td><td>-0.034513880</td><td>-0.035925708</td><td>-0.04035837</td><td>-0.031131153</td></tr>\n",
       "\t<tr><th scope=row>LV 5</th><td> 0.007663157</td><td> 0.007036176</td><td> 0.006608393</td><td> 0.003446311</td><td> 0.006340665</td><td> 0.007106127</td><td> 0.007930485</td><td> 0.009164026</td><td> 0.008023601</td><td> 0.007937586</td><td>⋯</td><td>-0.003055909</td><td>-0.004783739</td><td>-0.004352417</td><td>-0.004159541</td><td>-0.001084991</td><td>-0.001884109</td><td>-0.003561052</td><td>-0.003546184</td><td>-0.01210732</td><td>-0.001192709</td></tr>\n",
       "</tbody>\n",
       "</table>\n"
      ],
      "text/latex": [
       "A matrix: 5 × 37032 of type dbl\n",
       "\\begin{tabular}{r|lllllllllllllllllllll}\n",
       "  & SRP000599.SRR013549 & SRP000599.SRR013550 & SRP000599.SRR013551 & SRP000599.SRR013552 & SRP000599.SRR013553 & SRP000599.SRR013554 & SRP000599.SRR013555 & SRP000599.SRR013556 & SRP000599.SRR013557 & SRP000599.SRR013558 & ⋯ & SRP035599.SRR1139372 & SRP035599.SRR1139393 & SRP035599.SRR1139388 & SRP035599.SRR1139378 & SRP035599.SRR1139399 & SRP035599.SRR1139386 & SRP035599.SRR1139375 & SRP035599.SRR1139382 & SRP035599.SRR1139356 & SRP035599.SRR1139370\\\\\n",
       "\\hline\n",
       "\t1,REACTOME\\_MRNA\\_SPLICING & -0.059296689 & -0.047909034 & -0.049366085 & -0.065078034 & -0.036394186 & -0.046432986 & -0.040980500 & -0.040068202 & -0.046137392 & -0.048547681 & ⋯ &  0.028219530 &  0.035137107 &  0.065077330 &  0.078143650 &  0.092361864 &  0.069042346 &  0.090913845 &  0.096341467 &  0.13111465 &  0.171751422\\\\\n",
       "\t2,SVM Monocytes &  0.006212678 &  0.003625471 &  0.006604582 &  0.009258006 &  0.005061427 &  0.004132735 &  0.008950264 &  0.007226716 &  0.007240987 &  0.005709697 & ⋯ & -0.050455152 & -0.034501970 & -0.033640290 & -0.049702173 & -0.037425739 & -0.050069528 & -0.022575052 & -0.055091302 & -0.05686929 & -0.018072570\\\\\n",
       "\t3,REACTOME\\_TRANSMISSION\\_ACROSS\\_CHEMICAL\\_SYNAPSES & -0.026105335 & -0.032232060 & -0.020621382 & -0.027598555 & -0.035248076 & -0.038700769 & -0.032527087 & -0.030592727 & -0.028937277 & -0.027405660 & ⋯ & -0.028609689 & -0.033449754 & -0.030583001 & -0.032399106 & -0.029365381 & -0.025405876 & -0.033657228 & -0.031317680 & -0.03092424 & -0.027868614\\\\\n",
       "\t4,REACTOME\\_NEURONAL\\_SYSTEM & -0.022079745 & -0.008970910 & -0.020341711 & -0.016260213 & -0.003022898 &  0.002442659 & -0.020457842 & -0.023735309 & -0.021581483 & -0.022477572 & ⋯ & -0.037122216 & -0.029658154 & -0.036349546 & -0.039253549 & -0.035204624 & -0.036345061 & -0.034513880 & -0.035925708 & -0.04035837 & -0.031131153\\\\\n",
       "\tLV 5 &  0.007663157 &  0.007036176 &  0.006608393 &  0.003446311 &  0.006340665 &  0.007106127 &  0.007930485 &  0.009164026 &  0.008023601 &  0.007937586 & ⋯ & -0.003055909 & -0.004783739 & -0.004352417 & -0.004159541 & -0.001084991 & -0.001884109 & -0.003561052 & -0.003546184 & -0.01210732 & -0.001192709\\\\\n",
       "\\end{tabular}\n"
      ],
      "text/markdown": [
       "\n",
       "A matrix: 5 × 37032 of type dbl\n",
       "\n",
       "| <!--/--> | SRP000599.SRR013549 | SRP000599.SRR013550 | SRP000599.SRR013551 | SRP000599.SRR013552 | SRP000599.SRR013553 | SRP000599.SRR013554 | SRP000599.SRR013555 | SRP000599.SRR013556 | SRP000599.SRR013557 | SRP000599.SRR013558 | ⋯ | SRP035599.SRR1139372 | SRP035599.SRR1139393 | SRP035599.SRR1139388 | SRP035599.SRR1139378 | SRP035599.SRR1139399 | SRP035599.SRR1139386 | SRP035599.SRR1139375 | SRP035599.SRR1139382 | SRP035599.SRR1139356 | SRP035599.SRR1139370 |\n",
       "|---|---|---|---|---|---|---|---|---|---|---|---|---|---|---|---|---|---|---|---|---|---|\n",
       "| 1,REACTOME_MRNA_SPLICING | -0.059296689 | -0.047909034 | -0.049366085 | -0.065078034 | -0.036394186 | -0.046432986 | -0.040980500 | -0.040068202 | -0.046137392 | -0.048547681 | ⋯ |  0.028219530 |  0.035137107 |  0.065077330 |  0.078143650 |  0.092361864 |  0.069042346 |  0.090913845 |  0.096341467 |  0.13111465 |  0.171751422 |\n",
       "| 2,SVM Monocytes |  0.006212678 |  0.003625471 |  0.006604582 |  0.009258006 |  0.005061427 |  0.004132735 |  0.008950264 |  0.007226716 |  0.007240987 |  0.005709697 | ⋯ | -0.050455152 | -0.034501970 | -0.033640290 | -0.049702173 | -0.037425739 | -0.050069528 | -0.022575052 | -0.055091302 | -0.05686929 | -0.018072570 |\n",
       "| 3,REACTOME_TRANSMISSION_ACROSS_CHEMICAL_SYNAPSES | -0.026105335 | -0.032232060 | -0.020621382 | -0.027598555 | -0.035248076 | -0.038700769 | -0.032527087 | -0.030592727 | -0.028937277 | -0.027405660 | ⋯ | -0.028609689 | -0.033449754 | -0.030583001 | -0.032399106 | -0.029365381 | -0.025405876 | -0.033657228 | -0.031317680 | -0.03092424 | -0.027868614 |\n",
       "| 4,REACTOME_NEURONAL_SYSTEM | -0.022079745 | -0.008970910 | -0.020341711 | -0.016260213 | -0.003022898 |  0.002442659 | -0.020457842 | -0.023735309 | -0.021581483 | -0.022477572 | ⋯ | -0.037122216 | -0.029658154 | -0.036349546 | -0.039253549 | -0.035204624 | -0.036345061 | -0.034513880 | -0.035925708 | -0.04035837 | -0.031131153 |\n",
       "| LV 5 |  0.007663157 |  0.007036176 |  0.006608393 |  0.003446311 |  0.006340665 |  0.007106127 |  0.007930485 |  0.009164026 |  0.008023601 |  0.007937586 | ⋯ | -0.003055909 | -0.004783739 | -0.004352417 | -0.004159541 | -0.001084991 | -0.001884109 | -0.003561052 | -0.003546184 | -0.01210732 | -0.001192709 |\n",
       "\n"
      ],
      "text/plain": [
       "                                                 SRP000599.SRR013549\n",
       "1,REACTOME_MRNA_SPLICING                         -0.059296689       \n",
       "2,SVM Monocytes                                   0.006212678       \n",
       "3,REACTOME_TRANSMISSION_ACROSS_CHEMICAL_SYNAPSES -0.026105335       \n",
       "4,REACTOME_NEURONAL_SYSTEM                       -0.022079745       \n",
       "LV 5                                              0.007663157       \n",
       "                                                 SRP000599.SRR013550\n",
       "1,REACTOME_MRNA_SPLICING                         -0.047909034       \n",
       "2,SVM Monocytes                                   0.003625471       \n",
       "3,REACTOME_TRANSMISSION_ACROSS_CHEMICAL_SYNAPSES -0.032232060       \n",
       "4,REACTOME_NEURONAL_SYSTEM                       -0.008970910       \n",
       "LV 5                                              0.007036176       \n",
       "                                                 SRP000599.SRR013551\n",
       "1,REACTOME_MRNA_SPLICING                         -0.049366085       \n",
       "2,SVM Monocytes                                   0.006604582       \n",
       "3,REACTOME_TRANSMISSION_ACROSS_CHEMICAL_SYNAPSES -0.020621382       \n",
       "4,REACTOME_NEURONAL_SYSTEM                       -0.020341711       \n",
       "LV 5                                              0.006608393       \n",
       "                                                 SRP000599.SRR013552\n",
       "1,REACTOME_MRNA_SPLICING                         -0.065078034       \n",
       "2,SVM Monocytes                                   0.009258006       \n",
       "3,REACTOME_TRANSMISSION_ACROSS_CHEMICAL_SYNAPSES -0.027598555       \n",
       "4,REACTOME_NEURONAL_SYSTEM                       -0.016260213       \n",
       "LV 5                                              0.003446311       \n",
       "                                                 SRP000599.SRR013553\n",
       "1,REACTOME_MRNA_SPLICING                         -0.036394186       \n",
       "2,SVM Monocytes                                   0.005061427       \n",
       "3,REACTOME_TRANSMISSION_ACROSS_CHEMICAL_SYNAPSES -0.035248076       \n",
       "4,REACTOME_NEURONAL_SYSTEM                       -0.003022898       \n",
       "LV 5                                              0.006340665       \n",
       "                                                 SRP000599.SRR013554\n",
       "1,REACTOME_MRNA_SPLICING                         -0.046432986       \n",
       "2,SVM Monocytes                                   0.004132735       \n",
       "3,REACTOME_TRANSMISSION_ACROSS_CHEMICAL_SYNAPSES -0.038700769       \n",
       "4,REACTOME_NEURONAL_SYSTEM                        0.002442659       \n",
       "LV 5                                              0.007106127       \n",
       "                                                 SRP000599.SRR013555\n",
       "1,REACTOME_MRNA_SPLICING                         -0.040980500       \n",
       "2,SVM Monocytes                                   0.008950264       \n",
       "3,REACTOME_TRANSMISSION_ACROSS_CHEMICAL_SYNAPSES -0.032527087       \n",
       "4,REACTOME_NEURONAL_SYSTEM                       -0.020457842       \n",
       "LV 5                                              0.007930485       \n",
       "                                                 SRP000599.SRR013556\n",
       "1,REACTOME_MRNA_SPLICING                         -0.040068202       \n",
       "2,SVM Monocytes                                   0.007226716       \n",
       "3,REACTOME_TRANSMISSION_ACROSS_CHEMICAL_SYNAPSES -0.030592727       \n",
       "4,REACTOME_NEURONAL_SYSTEM                       -0.023735309       \n",
       "LV 5                                              0.009164026       \n",
       "                                                 SRP000599.SRR013557\n",
       "1,REACTOME_MRNA_SPLICING                         -0.046137392       \n",
       "2,SVM Monocytes                                   0.007240987       \n",
       "3,REACTOME_TRANSMISSION_ACROSS_CHEMICAL_SYNAPSES -0.028937277       \n",
       "4,REACTOME_NEURONAL_SYSTEM                       -0.021581483       \n",
       "LV 5                                              0.008023601       \n",
       "                                                 SRP000599.SRR013558 ⋯\n",
       "1,REACTOME_MRNA_SPLICING                         -0.048547681        ⋯\n",
       "2,SVM Monocytes                                   0.005709697        ⋯\n",
       "3,REACTOME_TRANSMISSION_ACROSS_CHEMICAL_SYNAPSES -0.027405660        ⋯\n",
       "4,REACTOME_NEURONAL_SYSTEM                       -0.022477572        ⋯\n",
       "LV 5                                              0.007937586        ⋯\n",
       "                                                 SRP035599.SRR1139372\n",
       "1,REACTOME_MRNA_SPLICING                          0.028219530        \n",
       "2,SVM Monocytes                                  -0.050455152        \n",
       "3,REACTOME_TRANSMISSION_ACROSS_CHEMICAL_SYNAPSES -0.028609689        \n",
       "4,REACTOME_NEURONAL_SYSTEM                       -0.037122216        \n",
       "LV 5                                             -0.003055909        \n",
       "                                                 SRP035599.SRR1139393\n",
       "1,REACTOME_MRNA_SPLICING                          0.035137107        \n",
       "2,SVM Monocytes                                  -0.034501970        \n",
       "3,REACTOME_TRANSMISSION_ACROSS_CHEMICAL_SYNAPSES -0.033449754        \n",
       "4,REACTOME_NEURONAL_SYSTEM                       -0.029658154        \n",
       "LV 5                                             -0.004783739        \n",
       "                                                 SRP035599.SRR1139388\n",
       "1,REACTOME_MRNA_SPLICING                          0.065077330        \n",
       "2,SVM Monocytes                                  -0.033640290        \n",
       "3,REACTOME_TRANSMISSION_ACROSS_CHEMICAL_SYNAPSES -0.030583001        \n",
       "4,REACTOME_NEURONAL_SYSTEM                       -0.036349546        \n",
       "LV 5                                             -0.004352417        \n",
       "                                                 SRP035599.SRR1139378\n",
       "1,REACTOME_MRNA_SPLICING                          0.078143650        \n",
       "2,SVM Monocytes                                  -0.049702173        \n",
       "3,REACTOME_TRANSMISSION_ACROSS_CHEMICAL_SYNAPSES -0.032399106        \n",
       "4,REACTOME_NEURONAL_SYSTEM                       -0.039253549        \n",
       "LV 5                                             -0.004159541        \n",
       "                                                 SRP035599.SRR1139399\n",
       "1,REACTOME_MRNA_SPLICING                          0.092361864        \n",
       "2,SVM Monocytes                                  -0.037425739        \n",
       "3,REACTOME_TRANSMISSION_ACROSS_CHEMICAL_SYNAPSES -0.029365381        \n",
       "4,REACTOME_NEURONAL_SYSTEM                       -0.035204624        \n",
       "LV 5                                             -0.001084991        \n",
       "                                                 SRP035599.SRR1139386\n",
       "1,REACTOME_MRNA_SPLICING                          0.069042346        \n",
       "2,SVM Monocytes                                  -0.050069528        \n",
       "3,REACTOME_TRANSMISSION_ACROSS_CHEMICAL_SYNAPSES -0.025405876        \n",
       "4,REACTOME_NEURONAL_SYSTEM                       -0.036345061        \n",
       "LV 5                                             -0.001884109        \n",
       "                                                 SRP035599.SRR1139375\n",
       "1,REACTOME_MRNA_SPLICING                          0.090913845        \n",
       "2,SVM Monocytes                                  -0.022575052        \n",
       "3,REACTOME_TRANSMISSION_ACROSS_CHEMICAL_SYNAPSES -0.033657228        \n",
       "4,REACTOME_NEURONAL_SYSTEM                       -0.034513880        \n",
       "LV 5                                             -0.003561052        \n",
       "                                                 SRP035599.SRR1139382\n",
       "1,REACTOME_MRNA_SPLICING                          0.096341467        \n",
       "2,SVM Monocytes                                  -0.055091302        \n",
       "3,REACTOME_TRANSMISSION_ACROSS_CHEMICAL_SYNAPSES -0.031317680        \n",
       "4,REACTOME_NEURONAL_SYSTEM                       -0.035925708        \n",
       "LV 5                                             -0.003546184        \n",
       "                                                 SRP035599.SRR1139356\n",
       "1,REACTOME_MRNA_SPLICING                          0.13111465         \n",
       "2,SVM Monocytes                                  -0.05686929         \n",
       "3,REACTOME_TRANSMISSION_ACROSS_CHEMICAL_SYNAPSES -0.03092424         \n",
       "4,REACTOME_NEURONAL_SYSTEM                       -0.04035837         \n",
       "LV 5                                             -0.01210732         \n",
       "                                                 SRP035599.SRR1139370\n",
       "1,REACTOME_MRNA_SPLICING                          0.171751422        \n",
       "2,SVM Monocytes                                  -0.018072570        \n",
       "3,REACTOME_TRANSMISSION_ACROSS_CHEMICAL_SYNAPSES -0.027868614        \n",
       "4,REACTOME_NEURONAL_SYSTEM                       -0.031131153        \n",
       "LV 5                                             -0.001192709        "
      ]
     },
     "metadata": {},
     "output_type": "display_data"
    },
    {
     "data": {
      "text/html": [
       "<table class=\"dataframe\">\n",
       "<caption>A matrix: 5 × 987 of type dbl</caption>\n",
       "<tbody>\n",
       "\t<tr><th scope=row>GAS6</th><td>0.0000000</td><td>0</td><td>0.03943774</td><td>0</td><td>0.05047625</td><td>0.00000000</td><td>0</td><td>0.000000000</td><td>0.5909494</td><td>0.00000000</td><td>⋯</td><td>0.05012510</td><td>0.00000000</td><td>0.033407371</td><td>0.00000000</td><td>0.00000000</td><td>0.005963392</td><td>0.34736209</td><td>0</td><td>0.00000000</td><td>0.0000000</td></tr>\n",
       "\t<tr><th scope=row>MMP14</th><td>0.0000000</td><td>0</td><td>0.00000000</td><td>0</td><td>0.07007159</td><td>0.00000000</td><td>0</td><td>0.004904131</td><td>1.7201788</td><td>2.42359463</td><td>⋯</td><td>0.00000000</td><td>0.00000000</td><td>0.001007286</td><td>0.00000000</td><td>0.03574724</td><td>0.000000000</td><td>0.00000000</td><td>0</td><td>0.01497801</td><td>0.0000000</td></tr>\n",
       "\t<tr><th scope=row>DSP</th><td>0.0000000</td><td>0</td><td>0.00000000</td><td>0</td><td>0.00000000</td><td>0.04169683</td><td>0</td><td>0.005718149</td><td>0.0000000</td><td>0.00000000</td><td>⋯</td><td>0.02085321</td><td>0.00000000</td><td>0.000000000</td><td>0.00000000</td><td>0.00000000</td><td>0.005774440</td><td>0.00000000</td><td>0</td><td>0.00000000</td><td>0.4164045</td></tr>\n",
       "\t<tr><th scope=row>MARCKSL1</th><td>0.3052117</td><td>0</td><td>0.00000000</td><td>0</td><td>0.00000000</td><td>0.00000000</td><td>0</td><td>0.000000000</td><td>0.1618435</td><td>0.14947148</td><td>⋯</td><td>0.02713418</td><td>0.05271997</td><td>0.000000000</td><td>0.03018947</td><td>0.06088351</td><td>0.000000000</td><td>0.00000000</td><td>0</td><td>0.00000000</td><td>0.4484800</td></tr>\n",
       "\t<tr><th scope=row>SPARC</th><td>0.0000000</td><td>0</td><td>0.00000000</td><td>0</td><td>0.00000000</td><td>0.00000000</td><td>0</td><td>0.000000000</td><td>0.0000000</td><td>0.01401441</td><td>⋯</td><td>0.00000000</td><td>0.00000000</td><td>0.000000000</td><td>0.00000000</td><td>0.00000000</td><td>0.000000000</td><td>0.06777859</td><td>0</td><td>0.12241734</td><td>0.0626649</td></tr>\n",
       "</tbody>\n",
       "</table>\n"
      ],
      "text/latex": [
       "A matrix: 5 × 987 of type dbl\n",
       "\\begin{tabular}{r|lllllllllllllllllllll}\n",
       "\tGAS6 & 0.0000000 & 0 & 0.03943774 & 0 & 0.05047625 & 0.00000000 & 0 & 0.000000000 & 0.5909494 & 0.00000000 & ⋯ & 0.05012510 & 0.00000000 & 0.033407371 & 0.00000000 & 0.00000000 & 0.005963392 & 0.34736209 & 0 & 0.00000000 & 0.0000000\\\\\n",
       "\tMMP14 & 0.0000000 & 0 & 0.00000000 & 0 & 0.07007159 & 0.00000000 & 0 & 0.004904131 & 1.7201788 & 2.42359463 & ⋯ & 0.00000000 & 0.00000000 & 0.001007286 & 0.00000000 & 0.03574724 & 0.000000000 & 0.00000000 & 0 & 0.01497801 & 0.0000000\\\\\n",
       "\tDSP & 0.0000000 & 0 & 0.00000000 & 0 & 0.00000000 & 0.04169683 & 0 & 0.005718149 & 0.0000000 & 0.00000000 & ⋯ & 0.02085321 & 0.00000000 & 0.000000000 & 0.00000000 & 0.00000000 & 0.005774440 & 0.00000000 & 0 & 0.00000000 & 0.4164045\\\\\n",
       "\tMARCKSL1 & 0.3052117 & 0 & 0.00000000 & 0 & 0.00000000 & 0.00000000 & 0 & 0.000000000 & 0.1618435 & 0.14947148 & ⋯ & 0.02713418 & 0.05271997 & 0.000000000 & 0.03018947 & 0.06088351 & 0.000000000 & 0.00000000 & 0 & 0.00000000 & 0.4484800\\\\\n",
       "\tSPARC & 0.0000000 & 0 & 0.00000000 & 0 & 0.00000000 & 0.00000000 & 0 & 0.000000000 & 0.0000000 & 0.01401441 & ⋯ & 0.00000000 & 0.00000000 & 0.000000000 & 0.00000000 & 0.00000000 & 0.000000000 & 0.06777859 & 0 & 0.12241734 & 0.0626649\\\\\n",
       "\\end{tabular}\n"
      ],
      "text/markdown": [
       "\n",
       "A matrix: 5 × 987 of type dbl\n",
       "\n",
       "| GAS6 | 0.0000000 | 0 | 0.03943774 | 0 | 0.05047625 | 0.00000000 | 0 | 0.000000000 | 0.5909494 | 0.00000000 | ⋯ | 0.05012510 | 0.00000000 | 0.033407371 | 0.00000000 | 0.00000000 | 0.005963392 | 0.34736209 | 0 | 0.00000000 | 0.0000000 |\n",
       "| MMP14 | 0.0000000 | 0 | 0.00000000 | 0 | 0.07007159 | 0.00000000 | 0 | 0.004904131 | 1.7201788 | 2.42359463 | ⋯ | 0.00000000 | 0.00000000 | 0.001007286 | 0.00000000 | 0.03574724 | 0.000000000 | 0.00000000 | 0 | 0.01497801 | 0.0000000 |\n",
       "| DSP | 0.0000000 | 0 | 0.00000000 | 0 | 0.00000000 | 0.04169683 | 0 | 0.005718149 | 0.0000000 | 0.00000000 | ⋯ | 0.02085321 | 0.00000000 | 0.000000000 | 0.00000000 | 0.00000000 | 0.005774440 | 0.00000000 | 0 | 0.00000000 | 0.4164045 |\n",
       "| MARCKSL1 | 0.3052117 | 0 | 0.00000000 | 0 | 0.00000000 | 0.00000000 | 0 | 0.000000000 | 0.1618435 | 0.14947148 | ⋯ | 0.02713418 | 0.05271997 | 0.000000000 | 0.03018947 | 0.06088351 | 0.000000000 | 0.00000000 | 0 | 0.00000000 | 0.4484800 |\n",
       "| SPARC | 0.0000000 | 0 | 0.00000000 | 0 | 0.00000000 | 0.00000000 | 0 | 0.000000000 | 0.0000000 | 0.01401441 | ⋯ | 0.00000000 | 0.00000000 | 0.000000000 | 0.00000000 | 0.00000000 | 0.000000000 | 0.06777859 | 0 | 0.12241734 | 0.0626649 |\n",
       "\n"
      ],
      "text/plain": [
       "         [,1]      [,2] [,3]       [,4] [,5]       [,6]       [,7] [,8]       \n",
       "GAS6     0.0000000 0    0.03943774 0    0.05047625 0.00000000 0    0.000000000\n",
       "MMP14    0.0000000 0    0.00000000 0    0.07007159 0.00000000 0    0.004904131\n",
       "DSP      0.0000000 0    0.00000000 0    0.00000000 0.04169683 0    0.005718149\n",
       "MARCKSL1 0.3052117 0    0.00000000 0    0.00000000 0.00000000 0    0.000000000\n",
       "SPARC    0.0000000 0    0.00000000 0    0.00000000 0.00000000 0    0.000000000\n",
       "         [,9]      [,10]      [,11] [,12]      [,13]      [,14]      \n",
       "GAS6     0.5909494 0.00000000 ⋯     0.05012510 0.00000000 0.033407371\n",
       "MMP14    1.7201788 2.42359463 ⋯     0.00000000 0.00000000 0.001007286\n",
       "DSP      0.0000000 0.00000000 ⋯     0.02085321 0.00000000 0.000000000\n",
       "MARCKSL1 0.1618435 0.14947148 ⋯     0.02713418 0.05271997 0.000000000\n",
       "SPARC    0.0000000 0.01401441 ⋯     0.00000000 0.00000000 0.000000000\n",
       "         [,15]      [,16]      [,17]       [,18]      [,19] [,20]     \n",
       "GAS6     0.00000000 0.00000000 0.005963392 0.34736209 0     0.00000000\n",
       "MMP14    0.00000000 0.03574724 0.000000000 0.00000000 0     0.01497801\n",
       "DSP      0.00000000 0.00000000 0.005774440 0.00000000 0     0.00000000\n",
       "MARCKSL1 0.03018947 0.06088351 0.000000000 0.00000000 0     0.00000000\n",
       "SPARC    0.00000000 0.00000000 0.000000000 0.06777859 0     0.12241734\n",
       "         [,21]    \n",
       "GAS6     0.0000000\n",
       "MMP14    0.0000000\n",
       "DSP      0.4164045\n",
       "MARCKSL1 0.4484800\n",
       "SPARC    0.0626649"
      ]
     },
     "metadata": {},
     "output_type": "display_data"
    }
   ],
   "source": [
    "# load matrices to rebuild plier model\n",
    "# LV x samples\n",
    "b_model <- readRDS(\"data/input/multiplier_model_b.rds\")\n",
    "head(b_model,5)\n",
    "# gene x LV\n",
    "z_model <- readRDS(\"data/input/multiplier_model_z.rds\")\n",
    "head(z_model,5)"
   ]
  },
  {
   "cell_type": "markdown",
   "metadata": {},
   "source": [
    "## label z_matrix with ensemblID instead of gene name"
   ]
  },
  {
   "cell_type": "code",
   "execution_count": 23,
   "metadata": {},
   "outputs": [
    {
     "name": "stdout",
     "output_type": "stream",
     "text": [
      " num [1:6455, 1:987] 0 0.2712 0.0051 0.513 1.0082 ...\n",
      " - attr(*, \"dimnames\")=List of 2\n",
      "  ..$ : chr [1:6455] \"ENSG00000175899\" \"ENSG00000094914\" \"ENSG00000129673\" \"ENSG00000090861\" ...\n",
      "  ..$ : chr [1:987] \"V1\" \"V2\" \"V3\" \"V4\" ...\n"
     ]
    },
    {
     "data": {
      "text/html": [
       "<table class=\"dataframe\">\n",
       "<caption>A matrix: 5 × 987 of type dbl</caption>\n",
       "<thead>\n",
       "\t<tr><th></th><th scope=col>V1</th><th scope=col>V2</th><th scope=col>V3</th><th scope=col>V4</th><th scope=col>V5</th><th scope=col>V6</th><th scope=col>V7</th><th scope=col>V8</th><th scope=col>V9</th><th scope=col>V10</th><th scope=col>⋯</th><th scope=col>V978</th><th scope=col>V979</th><th scope=col>V980</th><th scope=col>V981</th><th scope=col>V982</th><th scope=col>V983</th><th scope=col>V984</th><th scope=col>V985</th><th scope=col>V986</th><th scope=col>V987</th></tr>\n",
       "</thead>\n",
       "<tbody>\n",
       "\t<tr><th scope=row>ENSG00000175899</th><td>0.000000000</td><td>0.0000000</td><td>0.00000000</td><td>0.07842750</td><td>0</td><td>0.0000000</td><td>0.0000000</td><td>0.04677228</td><td>0.0000000</td><td>0.0110329</td><td>⋯</td><td>0.010910</td><td>0.00000000</td><td>0.052869436</td><td>0.012748534</td><td>0</td><td>0.01398231</td><td>0.15224090</td><td>0.00000000</td><td>0.0000000</td><td>0.10888358</td></tr>\n",
       "\t<tr><th scope=row>ENSG00000094914</th><td>0.271162234</td><td>0.0000000</td><td>0.00000000</td><td>0.00000000</td><td>0</td><td>0.0000000</td><td>0.0000000</td><td>0.00000000</td><td>1.5133366</td><td>0.0000000</td><td>⋯</td><td>0.000000</td><td>0.00000000</td><td>0.000000000</td><td>0.001385031</td><td>0</td><td>0.00000000</td><td>0.71189565</td><td>0.03053447</td><td>0.4471055</td><td>0.42468522</td></tr>\n",
       "\t<tr><th scope=row>ENSG00000129673</th><td>0.005098885</td><td>0.3084969</td><td>0.02881539</td><td>0.00000000</td><td>0</td><td>0.0000000</td><td>0.3717253</td><td>0.00000000</td><td>0.1352375</td><td>0.0000000</td><td>⋯</td><td>0.117163</td><td>0.01881498</td><td>0.000000000</td><td>0.193141835</td><td>0</td><td>0.04040077</td><td>0.18043565</td><td>0.00000000</td><td>0.0000000</td><td>0.04206449</td></tr>\n",
       "\t<tr><th scope=row>ENSG00000090861</th><td>0.512978085</td><td>0.0000000</td><td>0.45128547</td><td>0.31956792</td><td>0</td><td>0.0000000</td><td>0.0000000</td><td>0.00000000</td><td>0.0000000</td><td>0.0000000</td><td>⋯</td><td>0.000000</td><td>0.00000000</td><td>0.006207784</td><td>0.021274385</td><td>0</td><td>0.00000000</td><td>0.06214269</td><td>0.00000000</td><td>0.0000000</td><td>0.36489213</td></tr>\n",
       "\t<tr><th scope=row>ENSG00000124608</th><td>1.008156895</td><td>0.0000000</td><td>0.19742406</td><td>0.02483182</td><td>0</td><td>0.5708101</td><td>0.0000000</td><td>0.22867460</td><td>0.0000000</td><td>0.1162435</td><td>⋯</td><td>0.000000</td><td>0.00000000</td><td>0.153344992</td><td>0.000000000</td><td>0</td><td>0.00000000</td><td>1.00457811</td><td>0.01447016</td><td>0.0000000</td><td>0.00000000</td></tr>\n",
       "</tbody>\n",
       "</table>\n"
      ],
      "text/latex": [
       "A matrix: 5 × 987 of type dbl\n",
       "\\begin{tabular}{r|lllllllllllllllllllll}\n",
       "  & V1 & V2 & V3 & V4 & V5 & V6 & V7 & V8 & V9 & V10 & ⋯ & V978 & V979 & V980 & V981 & V982 & V983 & V984 & V985 & V986 & V987\\\\\n",
       "\\hline\n",
       "\tENSG00000175899 & 0.000000000 & 0.0000000 & 0.00000000 & 0.07842750 & 0 & 0.0000000 & 0.0000000 & 0.04677228 & 0.0000000 & 0.0110329 & ⋯ & 0.010910 & 0.00000000 & 0.052869436 & 0.012748534 & 0 & 0.01398231 & 0.15224090 & 0.00000000 & 0.0000000 & 0.10888358\\\\\n",
       "\tENSG00000094914 & 0.271162234 & 0.0000000 & 0.00000000 & 0.00000000 & 0 & 0.0000000 & 0.0000000 & 0.00000000 & 1.5133366 & 0.0000000 & ⋯ & 0.000000 & 0.00000000 & 0.000000000 & 0.001385031 & 0 & 0.00000000 & 0.71189565 & 0.03053447 & 0.4471055 & 0.42468522\\\\\n",
       "\tENSG00000129673 & 0.005098885 & 0.3084969 & 0.02881539 & 0.00000000 & 0 & 0.0000000 & 0.3717253 & 0.00000000 & 0.1352375 & 0.0000000 & ⋯ & 0.117163 & 0.01881498 & 0.000000000 & 0.193141835 & 0 & 0.04040077 & 0.18043565 & 0.00000000 & 0.0000000 & 0.04206449\\\\\n",
       "\tENSG00000090861 & 0.512978085 & 0.0000000 & 0.45128547 & 0.31956792 & 0 & 0.0000000 & 0.0000000 & 0.00000000 & 0.0000000 & 0.0000000 & ⋯ & 0.000000 & 0.00000000 & 0.006207784 & 0.021274385 & 0 & 0.00000000 & 0.06214269 & 0.00000000 & 0.0000000 & 0.36489213\\\\\n",
       "\tENSG00000124608 & 1.008156895 & 0.0000000 & 0.19742406 & 0.02483182 & 0 & 0.5708101 & 0.0000000 & 0.22867460 & 0.0000000 & 0.1162435 & ⋯ & 0.000000 & 0.00000000 & 0.153344992 & 0.000000000 & 0 & 0.00000000 & 1.00457811 & 0.01447016 & 0.0000000 & 0.00000000\\\\\n",
       "\\end{tabular}\n"
      ],
      "text/markdown": [
       "\n",
       "A matrix: 5 × 987 of type dbl\n",
       "\n",
       "| <!--/--> | V1 | V2 | V3 | V4 | V5 | V6 | V7 | V8 | V9 | V10 | ⋯ | V978 | V979 | V980 | V981 | V982 | V983 | V984 | V985 | V986 | V987 |\n",
       "|---|---|---|---|---|---|---|---|---|---|---|---|---|---|---|---|---|---|---|---|---|---|\n",
       "| ENSG00000175899 | 0.000000000 | 0.0000000 | 0.00000000 | 0.07842750 | 0 | 0.0000000 | 0.0000000 | 0.04677228 | 0.0000000 | 0.0110329 | ⋯ | 0.010910 | 0.00000000 | 0.052869436 | 0.012748534 | 0 | 0.01398231 | 0.15224090 | 0.00000000 | 0.0000000 | 0.10888358 |\n",
       "| ENSG00000094914 | 0.271162234 | 0.0000000 | 0.00000000 | 0.00000000 | 0 | 0.0000000 | 0.0000000 | 0.00000000 | 1.5133366 | 0.0000000 | ⋯ | 0.000000 | 0.00000000 | 0.000000000 | 0.001385031 | 0 | 0.00000000 | 0.71189565 | 0.03053447 | 0.4471055 | 0.42468522 |\n",
       "| ENSG00000129673 | 0.005098885 | 0.3084969 | 0.02881539 | 0.00000000 | 0 | 0.0000000 | 0.3717253 | 0.00000000 | 0.1352375 | 0.0000000 | ⋯ | 0.117163 | 0.01881498 | 0.000000000 | 0.193141835 | 0 | 0.04040077 | 0.18043565 | 0.00000000 | 0.0000000 | 0.04206449 |\n",
       "| ENSG00000090861 | 0.512978085 | 0.0000000 | 0.45128547 | 0.31956792 | 0 | 0.0000000 | 0.0000000 | 0.00000000 | 0.0000000 | 0.0000000 | ⋯ | 0.000000 | 0.00000000 | 0.006207784 | 0.021274385 | 0 | 0.00000000 | 0.06214269 | 0.00000000 | 0.0000000 | 0.36489213 |\n",
       "| ENSG00000124608 | 1.008156895 | 0.0000000 | 0.19742406 | 0.02483182 | 0 | 0.5708101 | 0.0000000 | 0.22867460 | 0.0000000 | 0.1162435 | ⋯ | 0.000000 | 0.00000000 | 0.153344992 | 0.000000000 | 0 | 0.00000000 | 1.00457811 | 0.01447016 | 0.0000000 | 0.00000000 |\n",
       "\n"
      ],
      "text/plain": [
       "                V1          V2        V3         V4         V5 V6       \n",
       "ENSG00000175899 0.000000000 0.0000000 0.00000000 0.07842750 0  0.0000000\n",
       "ENSG00000094914 0.271162234 0.0000000 0.00000000 0.00000000 0  0.0000000\n",
       "ENSG00000129673 0.005098885 0.3084969 0.02881539 0.00000000 0  0.0000000\n",
       "ENSG00000090861 0.512978085 0.0000000 0.45128547 0.31956792 0  0.0000000\n",
       "ENSG00000124608 1.008156895 0.0000000 0.19742406 0.02483182 0  0.5708101\n",
       "                V7        V8         V9        V10       ⋯ V978     V979      \n",
       "ENSG00000175899 0.0000000 0.04677228 0.0000000 0.0110329 ⋯ 0.010910 0.00000000\n",
       "ENSG00000094914 0.0000000 0.00000000 1.5133366 0.0000000 ⋯ 0.000000 0.00000000\n",
       "ENSG00000129673 0.3717253 0.00000000 0.1352375 0.0000000 ⋯ 0.117163 0.01881498\n",
       "ENSG00000090861 0.0000000 0.00000000 0.0000000 0.0000000 ⋯ 0.000000 0.00000000\n",
       "ENSG00000124608 0.0000000 0.22867460 0.0000000 0.1162435 ⋯ 0.000000 0.00000000\n",
       "                V980        V981        V982 V983       V984       V985      \n",
       "ENSG00000175899 0.052869436 0.012748534 0    0.01398231 0.15224090 0.00000000\n",
       "ENSG00000094914 0.000000000 0.001385031 0    0.00000000 0.71189565 0.03053447\n",
       "ENSG00000129673 0.000000000 0.193141835 0    0.04040077 0.18043565 0.00000000\n",
       "ENSG00000090861 0.006207784 0.021274385 0    0.00000000 0.06214269 0.00000000\n",
       "ENSG00000124608 0.153344992 0.000000000 0    0.00000000 1.00457811 0.01447016\n",
       "                V986      V987      \n",
       "ENSG00000175899 0.0000000 0.10888358\n",
       "ENSG00000094914 0.4471055 0.42468522\n",
       "ENSG00000129673 0.0000000 0.04206449\n",
       "ENSG00000090861 0.0000000 0.36489213\n",
       "ENSG00000124608 0.0000000 0.00000000"
      ]
     },
     "metadata": {},
     "output_type": "display_data"
    },
    {
     "data": {
      "text/html": [
       "<style>\n",
       ".list-inline {list-style: none; margin:0; padding: 0}\n",
       ".list-inline>li {display: inline-block}\n",
       ".list-inline>li:not(:last-child)::after {content: \"\\00b7\"; padding: 0 .5ex}\n",
       "</style>\n",
       "<ol class=list-inline><li>6455</li><li>987</li></ol>\n"
      ],
      "text/latex": [
       "\\begin{enumerate*}\n",
       "\\item 6455\n",
       "\\item 987\n",
       "\\end{enumerate*}\n"
      ],
      "text/markdown": [
       "1. 6455\n",
       "2. 987\n",
       "\n",
       "\n"
      ],
      "text/plain": [
       "[1] 6455  987"
      ]
     },
     "metadata": {},
     "output_type": "display_data"
    }
   ],
   "source": [
    "# convert matrix to dataframe with gene as rownames\n",
    "z_df <- cbind(gene = rownames(z_model), as.data.frame(z_model))\n",
    "# merge dataframe with 'name_to_ID' (file containing name and ensembleID) by gene\n",
    "EnsID_df <- merge(z_df, name_to_ID, by = \"gene\")\n",
    "#set rownames of new dataframe to ensembleID\n",
    "rownames(EnsID_df) <- EnsID_df$EnsemblID\n",
    "#remove gene and ensembleID column\n",
    "z_matrix <- as.matrix(EnsID_df[, !(colnames(EnsID_df) %in% c(\"gene\", \"EnsemblID\"))])\n",
    "\n",
    "str(z_matrix)\n",
    "head(z_matrix,5)\n",
    "dim(z_matrix)"
   ]
  },
  {
   "cell_type": "code",
   "execution_count": 24,
   "metadata": {},
   "outputs": [],
   "source": [
    "# rebuild plier model with z, b, L1, L2, L3\n",
    "plier.model <- list(Z = z_matrix, B =b_model, L1 = metadata$L1, L2 = metadata$L2, L3 = metadata$L3)"
   ]
  },
  {
   "cell_type": "code",
   "execution_count": 25,
   "metadata": {},
   "outputs": [
    {
     "data": {
      "text/html": [
       "<style>\n",
       ".list-inline {list-style: none; margin:0; padding: 0}\n",
       ".list-inline>li {display: inline-block}\n",
       ".list-inline>li:not(:last-child)::after {content: \"\\00b7\"; padding: 0 .5ex}\n",
       "</style>\n",
       "<ol class=list-inline><li>'b_model'</li><li>'CalculateHoldoutAUC'</li><li>'CalculateUSparsity'</li><li>'data_t'</li><li>'df_projection'</li><li>'EnsID_df'</li><li>'EvalWrapper'</li><li>'EvalWrapperWithHoldout'</li><li>'GetNewDataB'</li><li>'GetOrderedRowNorm'</li><li>'GetOrderedRowNormEM'</li><li>'GetPathwayCoverage'</li><li>'GetReconstructedExprs'</li><li>'GetReconstructionCorrelation'</li><li>'GetReconstructionMASE'</li><li>'metadata'</li><li>'name_to_ID'</li><li>'ordered_DAISY_gen_expr'</li><li>'ordered_mat'</li><li>'ordered_model'</li><li>'path_to_rna'</li><li>'plier.model'</li><li>'PLIERNewData'</li><li>'projection'</li><li>'py_data'</li><li>'RNAseq_1_res'</li><li>'z_df'</li><li>'z_matrix'</li><li>'z_model'</li></ol>\n"
      ],
      "text/latex": [
       "\\begin{enumerate*}\n",
       "\\item 'b\\_model'\n",
       "\\item 'CalculateHoldoutAUC'\n",
       "\\item 'CalculateUSparsity'\n",
       "\\item 'data\\_t'\n",
       "\\item 'df\\_projection'\n",
       "\\item 'EnsID\\_df'\n",
       "\\item 'EvalWrapper'\n",
       "\\item 'EvalWrapperWithHoldout'\n",
       "\\item 'GetNewDataB'\n",
       "\\item 'GetOrderedRowNorm'\n",
       "\\item 'GetOrderedRowNormEM'\n",
       "\\item 'GetPathwayCoverage'\n",
       "\\item 'GetReconstructedExprs'\n",
       "\\item 'GetReconstructionCorrelation'\n",
       "\\item 'GetReconstructionMASE'\n",
       "\\item 'metadata'\n",
       "\\item 'name\\_to\\_ID'\n",
       "\\item 'ordered\\_DAISY\\_gen\\_expr'\n",
       "\\item 'ordered\\_mat'\n",
       "\\item 'ordered\\_model'\n",
       "\\item 'path\\_to\\_rna'\n",
       "\\item 'plier.model'\n",
       "\\item 'PLIERNewData'\n",
       "\\item 'projection'\n",
       "\\item 'py\\_data'\n",
       "\\item 'RNAseq\\_1\\_res'\n",
       "\\item 'z\\_df'\n",
       "\\item 'z\\_matrix'\n",
       "\\item 'z\\_model'\n",
       "\\end{enumerate*}\n"
      ],
      "text/markdown": [
       "1. 'b_model'\n",
       "2. 'CalculateHoldoutAUC'\n",
       "3. 'CalculateUSparsity'\n",
       "4. 'data_t'\n",
       "5. 'df_projection'\n",
       "6. 'EnsID_df'\n",
       "7. 'EvalWrapper'\n",
       "8. 'EvalWrapperWithHoldout'\n",
       "9. 'GetNewDataB'\n",
       "10. 'GetOrderedRowNorm'\n",
       "11. 'GetOrderedRowNormEM'\n",
       "12. 'GetPathwayCoverage'\n",
       "13. 'GetReconstructedExprs'\n",
       "14. 'GetReconstructionCorrelation'\n",
       "15. 'GetReconstructionMASE'\n",
       "16. 'metadata'\n",
       "17. 'name_to_ID'\n",
       "18. 'ordered_DAISY_gen_expr'\n",
       "19. 'ordered_mat'\n",
       "20. 'ordered_model'\n",
       "21. 'path_to_rna'\n",
       "22. 'plier.model'\n",
       "23. 'PLIERNewData'\n",
       "24. 'projection'\n",
       "25. 'py_data'\n",
       "26. 'RNAseq_1_res'\n",
       "27. 'z_df'\n",
       "28. 'z_matrix'\n",
       "29. 'z_model'\n",
       "\n",
       "\n"
      ],
      "text/plain": [
       " [1] \"b_model\"                      \"CalculateHoldoutAUC\"         \n",
       " [3] \"CalculateUSparsity\"           \"data_t\"                      \n",
       " [5] \"df_projection\"                \"EnsID_df\"                    \n",
       " [7] \"EvalWrapper\"                  \"EvalWrapperWithHoldout\"      \n",
       " [9] \"GetNewDataB\"                  \"GetOrderedRowNorm\"           \n",
       "[11] \"GetOrderedRowNormEM\"          \"GetPathwayCoverage\"          \n",
       "[13] \"GetReconstructedExprs\"        \"GetReconstructionCorrelation\"\n",
       "[15] \"GetReconstructionMASE\"        \"metadata\"                    \n",
       "[17] \"name_to_ID\"                   \"ordered_DAISY_gen_expr\"      \n",
       "[19] \"ordered_mat\"                  \"ordered_model\"               \n",
       "[21] \"path_to_rna\"                  \"plier.model\"                 \n",
       "[23] \"PLIERNewData\"                 \"projection\"                  \n",
       "[25] \"py_data\"                      \"RNAseq_1_res\"                \n",
       "[27] \"z_df\"                         \"z_matrix\"                    \n",
       "[29] \"z_model\"                     "
      ]
     },
     "metadata": {},
     "output_type": "display_data"
    }
   ],
   "source": [
    "# Check all variables are loaded\n",
    "ls()"
   ]
  },
  {
   "cell_type": "code",
   "execution_count": 26,
   "metadata": {},
   "outputs": [],
   "source": [
    "#order gene expression matrix to match plier model\n",
    "ordered_mat <- GetOrderedRowNormEM(RNAseq_1_res, plier.model)\n",
    "\n",
    "#extract gene_expressiom matrix\n",
    "ordered_DAISY_gen_expr <- ordered_mat$exprs.norm.filtered\n",
    "\n",
    "# extract plier model matrix\n",
    "ordered_model <- ordered_mat$plier.model"
   ]
  },
  {
   "cell_type": "code",
   "execution_count": 27,
   "metadata": {},
   "outputs": [],
   "source": [
    "#project gen expression matrix into plier model\n",
    "projection <- GetNewDataB(ordered_DAISY_gen_expr,ordered_model)"
   ]
  },
  {
   "cell_type": "code",
   "execution_count": 28,
   "metadata": {},
   "outputs": [],
   "source": [
    "#save projection\n",
    "df_projection  <- as.data.frame(projection)\n",
    "saveRDS(df_projection,\"output/projection_1.rds\")"
   ]
  },
  {
   "cell_type": "code",
   "execution_count": 29,
   "metadata": {},
   "outputs": [
    {
     "data": {
      "text/html": [
       "<style>\n",
       ".list-inline {list-style: none; margin:0; padding: 0}\n",
       ".list-inline>li {display: inline-block}\n",
       ".list-inline>li:not(:last-child)::after {content: \"\\00b7\"; padding: 0 .5ex}\n",
       "</style>\n",
       "<ol class=list-inline><li>987</li><li>136</li></ol>\n"
      ],
      "text/latex": [
       "\\begin{enumerate*}\n",
       "\\item 987\n",
       "\\item 136\n",
       "\\end{enumerate*}\n"
      ],
      "text/markdown": [
       "1. 987\n",
       "2. 136\n",
       "\n",
       "\n"
      ],
      "text/plain": [
       "[1] 987 136"
      ]
     },
     "metadata": {},
     "output_type": "display_data"
    }
   ],
   "source": [
    "dim(df_projection)"
   ]
  },
  {
   "cell_type": "code",
   "execution_count": 30,
   "metadata": {},
   "outputs": [
    {
     "data": {
      "text/html": [
       "<table class=\"dataframe\">\n",
       "<caption>A data.frame: 10 × 136</caption>\n",
       "<thead>\n",
       "\t<tr><th></th><th scope=col>00041-0</th><th scope=col>00110-0</th><th scope=col>00139-0</th><th scope=col>00159-0</th><th scope=col>00174-0</th><th scope=col>00177-0</th><th scope=col>00181-0</th><th scope=col>00234-0</th><th scope=col>00250-0</th><th scope=col>00266-0</th><th scope=col>⋯</th><th scope=col>39376-0</th><th scope=col>39390-0</th><th scope=col>50136-0</th><th scope=col>62291-0</th><th scope=col>81801-0</th><th scope=col>84002-0</th><th scope=col>84689-0</th><th scope=col>84731-0</th><th scope=col>84860-0</th><th scope=col>85365-0</th></tr>\n",
       "\t<tr><th></th><th scope=col>&lt;dbl&gt;</th><th scope=col>&lt;dbl&gt;</th><th scope=col>&lt;dbl&gt;</th><th scope=col>&lt;dbl&gt;</th><th scope=col>&lt;dbl&gt;</th><th scope=col>&lt;dbl&gt;</th><th scope=col>&lt;dbl&gt;</th><th scope=col>&lt;dbl&gt;</th><th scope=col>&lt;dbl&gt;</th><th scope=col>&lt;dbl&gt;</th><th scope=col>⋯</th><th scope=col>&lt;dbl&gt;</th><th scope=col>&lt;dbl&gt;</th><th scope=col>&lt;dbl&gt;</th><th scope=col>&lt;dbl&gt;</th><th scope=col>&lt;dbl&gt;</th><th scope=col>&lt;dbl&gt;</th><th scope=col>&lt;dbl&gt;</th><th scope=col>&lt;dbl&gt;</th><th scope=col>&lt;dbl&gt;</th><th scope=col>&lt;dbl&gt;</th></tr>\n",
       "</thead>\n",
       "<tbody>\n",
       "\t<tr><th scope=row>1,REACTOME_MRNA_SPLICING</th><td> 0.045748028</td><td>-0.08426191</td><td>-0.077697184</td><td>-0.078539199</td><td> 0.022015152</td><td> 0.114903283</td><td> 0.033916849</td><td>-0.0007790358</td><td>-0.0550538495</td><td> 0.307223472</td><td>⋯</td><td>-0.020805125</td><td> 0.200051932</td><td> 0.0745357673</td><td> 0.0790468803</td><td>-0.116613355</td><td>-0.024169235</td><td>-0.02599850</td><td> 0.03331409</td><td> 0.039020003</td><td>-0.039547995</td></tr>\n",
       "\t<tr><th scope=row>2,SVM Monocytes</th><td> 0.104307804</td><td> 0.02627734</td><td>-0.049913741</td><td> 0.266457766</td><td>-0.008530261</td><td>-0.048283019</td><td>-0.052436882</td><td>-0.0500619312</td><td> 0.1014881826</td><td>-0.106715583</td><td>⋯</td><td>-0.110671875</td><td> 0.097926147</td><td>-0.0420160001</td><td>-0.0271421926</td><td> 0.084166292</td><td> 0.102093727</td><td> 0.02434837</td><td>-0.03841368</td><td>-0.217559542</td><td>-0.190521648</td></tr>\n",
       "\t<tr><th scope=row>3,REACTOME_TRANSMISSION_ACROSS_CHEMICAL_SYNAPSES</th><td>-0.034338781</td><td>-0.02141530</td><td>-0.102291965</td><td>-0.004261070</td><td>-0.006897807</td><td> 0.043636271</td><td>-0.041807814</td><td> 0.0247366996</td><td> 0.0033781163</td><td>-0.040374505</td><td>⋯</td><td>-0.003532239</td><td> 0.025953059</td><td>-0.0321982346</td><td> 0.0007537681</td><td>-0.027967879</td><td> 0.025623630</td><td>-0.10518150</td><td>-0.02992770</td><td> 0.005014077</td><td>-0.022716857</td></tr>\n",
       "\t<tr><th scope=row>4,REACTOME_NEURONAL_SYSTEM</th><td> 0.056377294</td><td> 0.04507367</td><td> 0.097356702</td><td> 0.041259268</td><td> 0.027453577</td><td>-0.041370318</td><td> 0.049110456</td><td> 0.0497693154</td><td> 0.0498141323</td><td>-0.022980039</td><td>⋯</td><td> 0.010174065</td><td> 0.008385931</td><td>-0.0202101409</td><td>-0.1275247825</td><td> 0.049648173</td><td> 0.012382789</td><td> 0.05540130</td><td> 0.03620698</td><td> 0.011494181</td><td>-0.002648721</td></tr>\n",
       "\t<tr><th scope=row>LV 5</th><td>-0.006014439</td><td> 0.00770212</td><td>-0.023535277</td><td> 0.010785959</td><td> 0.017448294</td><td>-0.060001645</td><td>-0.019730027</td><td> 0.0274240952</td><td> 0.0753578701</td><td> 0.002400883</td><td>⋯</td><td> 0.006542319</td><td> 0.012716513</td><td>-0.0071833708</td><td> 0.0320062254</td><td>-0.006807858</td><td>-0.013108250</td><td> 0.02927054</td><td>-0.02252472</td><td> 0.012608763</td><td> 0.021911458</td></tr>\n",
       "\t<tr><th scope=row>LV 6</th><td> 0.013141592</td><td> 0.04091529</td><td> 0.033234436</td><td>-0.026479309</td><td>-0.004379551</td><td> 0.061410724</td><td> 0.008241706</td><td> 0.0501137283</td><td> 0.0313095320</td><td>-0.003194558</td><td>⋯</td><td>-0.018788937</td><td> 0.005204376</td><td> 0.0004564716</td><td>-0.0563713341</td><td> 0.020142820</td><td> 0.058101390</td><td> 0.02155339</td><td> 0.03912967</td><td> 0.008472160</td><td> 0.018468082</td></tr>\n",
       "\t<tr><th scope=row>7,IRIS_Neutrophil-Resting</th><td>-0.158699344</td><td> 0.06129902</td><td>-0.067108808</td><td> 0.043252439</td><td>-0.080901625</td><td>-0.089031326</td><td>-0.066598034</td><td>-0.0180259054</td><td> 0.0072873850</td><td>-0.059118798</td><td>⋯</td><td> 0.001568902</td><td>-0.108232463</td><td>-0.0593649686</td><td> 0.1725609860</td><td>-0.015811326</td><td>-0.015747363</td><td> 0.02271727</td><td>-0.04820677</td><td>-0.104396531</td><td> 0.103225530</td></tr>\n",
       "\t<tr><th scope=row>8,KEGG_PPAR_SIGNALING_PATHWAY</th><td>-0.014859012</td><td> 0.03218188</td><td> 0.008868332</td><td> 0.005756415</td><td>-0.007961799</td><td>-0.100436616</td><td> 0.026326809</td><td> 0.0203580538</td><td>-0.0004896021</td><td> 0.006190327</td><td>⋯</td><td>-0.017983589</td><td>-0.009407780</td><td> 0.0097489890</td><td>-0.0206361462</td><td>-0.089435105</td><td> 0.010622735</td><td> 0.02822831</td><td> 0.00188233</td><td> 0.013371025</td><td>-0.032186313</td></tr>\n",
       "\t<tr><th scope=row>LV 9</th><td>-0.032401545</td><td>-0.08186520</td><td>-0.086891463</td><td>-0.028086861</td><td>-0.013467576</td><td> 0.007585578</td><td>-0.007937155</td><td> 0.0006474471</td><td>-0.0177954469</td><td>-0.059505412</td><td>⋯</td><td>-0.028677074</td><td> 0.081923299</td><td>-0.0183203750</td><td> 0.0725068819</td><td>-0.058726972</td><td>-0.001301881</td><td>-0.13552119</td><td>-0.01361991</td><td> 0.014036729</td><td> 0.016115704</td></tr>\n",
       "\t<tr><th scope=row>10,SVM Macrophages M0</th><td>-0.012606430</td><td> 0.01204398</td><td>-0.008437336</td><td> 0.030484368</td><td> 0.012146043</td><td>-0.061066100</td><td>-0.041958257</td><td>-0.0264450820</td><td>-0.0019364648</td><td> 0.010642824</td><td>⋯</td><td>-0.029438743</td><td> 0.034574516</td><td>-0.0440265411</td><td> 0.0146507920</td><td>-0.002235631</td><td> 0.060245855</td><td>-0.01860208</td><td>-0.01231577</td><td>-0.042654096</td><td> 0.016234614</td></tr>\n",
       "</tbody>\n",
       "</table>\n"
      ],
      "text/latex": [
       "A data.frame: 10 × 136\n",
       "\\begin{tabular}{r|lllllllllllllllllllll}\n",
       "  & 00041-0 & 00110-0 & 00139-0 & 00159-0 & 00174-0 & 00177-0 & 00181-0 & 00234-0 & 00250-0 & 00266-0 & ⋯ & 39376-0 & 39390-0 & 50136-0 & 62291-0 & 81801-0 & 84002-0 & 84689-0 & 84731-0 & 84860-0 & 85365-0\\\\\n",
       "  & <dbl> & <dbl> & <dbl> & <dbl> & <dbl> & <dbl> & <dbl> & <dbl> & <dbl> & <dbl> & ⋯ & <dbl> & <dbl> & <dbl> & <dbl> & <dbl> & <dbl> & <dbl> & <dbl> & <dbl> & <dbl>\\\\\n",
       "\\hline\n",
       "\t1,REACTOME\\_MRNA\\_SPLICING &  0.045748028 & -0.08426191 & -0.077697184 & -0.078539199 &  0.022015152 &  0.114903283 &  0.033916849 & -0.0007790358 & -0.0550538495 &  0.307223472 & ⋯ & -0.020805125 &  0.200051932 &  0.0745357673 &  0.0790468803 & -0.116613355 & -0.024169235 & -0.02599850 &  0.03331409 &  0.039020003 & -0.039547995\\\\\n",
       "\t2,SVM Monocytes &  0.104307804 &  0.02627734 & -0.049913741 &  0.266457766 & -0.008530261 & -0.048283019 & -0.052436882 & -0.0500619312 &  0.1014881826 & -0.106715583 & ⋯ & -0.110671875 &  0.097926147 & -0.0420160001 & -0.0271421926 &  0.084166292 &  0.102093727 &  0.02434837 & -0.03841368 & -0.217559542 & -0.190521648\\\\\n",
       "\t3,REACTOME\\_TRANSMISSION\\_ACROSS\\_CHEMICAL\\_SYNAPSES & -0.034338781 & -0.02141530 & -0.102291965 & -0.004261070 & -0.006897807 &  0.043636271 & -0.041807814 &  0.0247366996 &  0.0033781163 & -0.040374505 & ⋯ & -0.003532239 &  0.025953059 & -0.0321982346 &  0.0007537681 & -0.027967879 &  0.025623630 & -0.10518150 & -0.02992770 &  0.005014077 & -0.022716857\\\\\n",
       "\t4,REACTOME\\_NEURONAL\\_SYSTEM &  0.056377294 &  0.04507367 &  0.097356702 &  0.041259268 &  0.027453577 & -0.041370318 &  0.049110456 &  0.0497693154 &  0.0498141323 & -0.022980039 & ⋯ &  0.010174065 &  0.008385931 & -0.0202101409 & -0.1275247825 &  0.049648173 &  0.012382789 &  0.05540130 &  0.03620698 &  0.011494181 & -0.002648721\\\\\n",
       "\tLV 5 & -0.006014439 &  0.00770212 & -0.023535277 &  0.010785959 &  0.017448294 & -0.060001645 & -0.019730027 &  0.0274240952 &  0.0753578701 &  0.002400883 & ⋯ &  0.006542319 &  0.012716513 & -0.0071833708 &  0.0320062254 & -0.006807858 & -0.013108250 &  0.02927054 & -0.02252472 &  0.012608763 &  0.021911458\\\\\n",
       "\tLV 6 &  0.013141592 &  0.04091529 &  0.033234436 & -0.026479309 & -0.004379551 &  0.061410724 &  0.008241706 &  0.0501137283 &  0.0313095320 & -0.003194558 & ⋯ & -0.018788937 &  0.005204376 &  0.0004564716 & -0.0563713341 &  0.020142820 &  0.058101390 &  0.02155339 &  0.03912967 &  0.008472160 &  0.018468082\\\\\n",
       "\t7,IRIS\\_Neutrophil-Resting & -0.158699344 &  0.06129902 & -0.067108808 &  0.043252439 & -0.080901625 & -0.089031326 & -0.066598034 & -0.0180259054 &  0.0072873850 & -0.059118798 & ⋯ &  0.001568902 & -0.108232463 & -0.0593649686 &  0.1725609860 & -0.015811326 & -0.015747363 &  0.02271727 & -0.04820677 & -0.104396531 &  0.103225530\\\\\n",
       "\t8,KEGG\\_PPAR\\_SIGNALING\\_PATHWAY & -0.014859012 &  0.03218188 &  0.008868332 &  0.005756415 & -0.007961799 & -0.100436616 &  0.026326809 &  0.0203580538 & -0.0004896021 &  0.006190327 & ⋯ & -0.017983589 & -0.009407780 &  0.0097489890 & -0.0206361462 & -0.089435105 &  0.010622735 &  0.02822831 &  0.00188233 &  0.013371025 & -0.032186313\\\\\n",
       "\tLV 9 & -0.032401545 & -0.08186520 & -0.086891463 & -0.028086861 & -0.013467576 &  0.007585578 & -0.007937155 &  0.0006474471 & -0.0177954469 & -0.059505412 & ⋯ & -0.028677074 &  0.081923299 & -0.0183203750 &  0.0725068819 & -0.058726972 & -0.001301881 & -0.13552119 & -0.01361991 &  0.014036729 &  0.016115704\\\\\n",
       "\t10,SVM Macrophages M0 & -0.012606430 &  0.01204398 & -0.008437336 &  0.030484368 &  0.012146043 & -0.061066100 & -0.041958257 & -0.0264450820 & -0.0019364648 &  0.010642824 & ⋯ & -0.029438743 &  0.034574516 & -0.0440265411 &  0.0146507920 & -0.002235631 &  0.060245855 & -0.01860208 & -0.01231577 & -0.042654096 &  0.016234614\\\\\n",
       "\\end{tabular}\n"
      ],
      "text/markdown": [
       "\n",
       "A data.frame: 10 × 136\n",
       "\n",
       "| <!--/--> | 00041-0 &lt;dbl&gt; | 00110-0 &lt;dbl&gt; | 00139-0 &lt;dbl&gt; | 00159-0 &lt;dbl&gt; | 00174-0 &lt;dbl&gt; | 00177-0 &lt;dbl&gt; | 00181-0 &lt;dbl&gt; | 00234-0 &lt;dbl&gt; | 00250-0 &lt;dbl&gt; | 00266-0 &lt;dbl&gt; | ⋯ ⋯ | 39376-0 &lt;dbl&gt; | 39390-0 &lt;dbl&gt; | 50136-0 &lt;dbl&gt; | 62291-0 &lt;dbl&gt; | 81801-0 &lt;dbl&gt; | 84002-0 &lt;dbl&gt; | 84689-0 &lt;dbl&gt; | 84731-0 &lt;dbl&gt; | 84860-0 &lt;dbl&gt; | 85365-0 &lt;dbl&gt; |\n",
       "|---|---|---|---|---|---|---|---|---|---|---|---|---|---|---|---|---|---|---|---|---|---|\n",
       "| 1,REACTOME_MRNA_SPLICING |  0.045748028 | -0.08426191 | -0.077697184 | -0.078539199 |  0.022015152 |  0.114903283 |  0.033916849 | -0.0007790358 | -0.0550538495 |  0.307223472 | ⋯ | -0.020805125 |  0.200051932 |  0.0745357673 |  0.0790468803 | -0.116613355 | -0.024169235 | -0.02599850 |  0.03331409 |  0.039020003 | -0.039547995 |\n",
       "| 2,SVM Monocytes |  0.104307804 |  0.02627734 | -0.049913741 |  0.266457766 | -0.008530261 | -0.048283019 | -0.052436882 | -0.0500619312 |  0.1014881826 | -0.106715583 | ⋯ | -0.110671875 |  0.097926147 | -0.0420160001 | -0.0271421926 |  0.084166292 |  0.102093727 |  0.02434837 | -0.03841368 | -0.217559542 | -0.190521648 |\n",
       "| 3,REACTOME_TRANSMISSION_ACROSS_CHEMICAL_SYNAPSES | -0.034338781 | -0.02141530 | -0.102291965 | -0.004261070 | -0.006897807 |  0.043636271 | -0.041807814 |  0.0247366996 |  0.0033781163 | -0.040374505 | ⋯ | -0.003532239 |  0.025953059 | -0.0321982346 |  0.0007537681 | -0.027967879 |  0.025623630 | -0.10518150 | -0.02992770 |  0.005014077 | -0.022716857 |\n",
       "| 4,REACTOME_NEURONAL_SYSTEM |  0.056377294 |  0.04507367 |  0.097356702 |  0.041259268 |  0.027453577 | -0.041370318 |  0.049110456 |  0.0497693154 |  0.0498141323 | -0.022980039 | ⋯ |  0.010174065 |  0.008385931 | -0.0202101409 | -0.1275247825 |  0.049648173 |  0.012382789 |  0.05540130 |  0.03620698 |  0.011494181 | -0.002648721 |\n",
       "| LV 5 | -0.006014439 |  0.00770212 | -0.023535277 |  0.010785959 |  0.017448294 | -0.060001645 | -0.019730027 |  0.0274240952 |  0.0753578701 |  0.002400883 | ⋯ |  0.006542319 |  0.012716513 | -0.0071833708 |  0.0320062254 | -0.006807858 | -0.013108250 |  0.02927054 | -0.02252472 |  0.012608763 |  0.021911458 |\n",
       "| LV 6 |  0.013141592 |  0.04091529 |  0.033234436 | -0.026479309 | -0.004379551 |  0.061410724 |  0.008241706 |  0.0501137283 |  0.0313095320 | -0.003194558 | ⋯ | -0.018788937 |  0.005204376 |  0.0004564716 | -0.0563713341 |  0.020142820 |  0.058101390 |  0.02155339 |  0.03912967 |  0.008472160 |  0.018468082 |\n",
       "| 7,IRIS_Neutrophil-Resting | -0.158699344 |  0.06129902 | -0.067108808 |  0.043252439 | -0.080901625 | -0.089031326 | -0.066598034 | -0.0180259054 |  0.0072873850 | -0.059118798 | ⋯ |  0.001568902 | -0.108232463 | -0.0593649686 |  0.1725609860 | -0.015811326 | -0.015747363 |  0.02271727 | -0.04820677 | -0.104396531 |  0.103225530 |\n",
       "| 8,KEGG_PPAR_SIGNALING_PATHWAY | -0.014859012 |  0.03218188 |  0.008868332 |  0.005756415 | -0.007961799 | -0.100436616 |  0.026326809 |  0.0203580538 | -0.0004896021 |  0.006190327 | ⋯ | -0.017983589 | -0.009407780 |  0.0097489890 | -0.0206361462 | -0.089435105 |  0.010622735 |  0.02822831 |  0.00188233 |  0.013371025 | -0.032186313 |\n",
       "| LV 9 | -0.032401545 | -0.08186520 | -0.086891463 | -0.028086861 | -0.013467576 |  0.007585578 | -0.007937155 |  0.0006474471 | -0.0177954469 | -0.059505412 | ⋯ | -0.028677074 |  0.081923299 | -0.0183203750 |  0.0725068819 | -0.058726972 | -0.001301881 | -0.13552119 | -0.01361991 |  0.014036729 |  0.016115704 |\n",
       "| 10,SVM Macrophages M0 | -0.012606430 |  0.01204398 | -0.008437336 |  0.030484368 |  0.012146043 | -0.061066100 | -0.041958257 | -0.0264450820 | -0.0019364648 |  0.010642824 | ⋯ | -0.029438743 |  0.034574516 | -0.0440265411 |  0.0146507920 | -0.002235631 |  0.060245855 | -0.01860208 | -0.01231577 | -0.042654096 |  0.016234614 |\n",
       "\n"
      ],
      "text/plain": [
       "                                                 00041-0      00110-0    \n",
       "1,REACTOME_MRNA_SPLICING                          0.045748028 -0.08426191\n",
       "2,SVM Monocytes                                   0.104307804  0.02627734\n",
       "3,REACTOME_TRANSMISSION_ACROSS_CHEMICAL_SYNAPSES -0.034338781 -0.02141530\n",
       "4,REACTOME_NEURONAL_SYSTEM                        0.056377294  0.04507367\n",
       "LV 5                                             -0.006014439  0.00770212\n",
       "LV 6                                              0.013141592  0.04091529\n",
       "7,IRIS_Neutrophil-Resting                        -0.158699344  0.06129902\n",
       "8,KEGG_PPAR_SIGNALING_PATHWAY                    -0.014859012  0.03218188\n",
       "LV 9                                             -0.032401545 -0.08186520\n",
       "10,SVM Macrophages M0                            -0.012606430  0.01204398\n",
       "                                                 00139-0      00159-0     \n",
       "1,REACTOME_MRNA_SPLICING                         -0.077697184 -0.078539199\n",
       "2,SVM Monocytes                                  -0.049913741  0.266457766\n",
       "3,REACTOME_TRANSMISSION_ACROSS_CHEMICAL_SYNAPSES -0.102291965 -0.004261070\n",
       "4,REACTOME_NEURONAL_SYSTEM                        0.097356702  0.041259268\n",
       "LV 5                                             -0.023535277  0.010785959\n",
       "LV 6                                              0.033234436 -0.026479309\n",
       "7,IRIS_Neutrophil-Resting                        -0.067108808  0.043252439\n",
       "8,KEGG_PPAR_SIGNALING_PATHWAY                     0.008868332  0.005756415\n",
       "LV 9                                             -0.086891463 -0.028086861\n",
       "10,SVM Macrophages M0                            -0.008437336  0.030484368\n",
       "                                                 00174-0      00177-0     \n",
       "1,REACTOME_MRNA_SPLICING                          0.022015152  0.114903283\n",
       "2,SVM Monocytes                                  -0.008530261 -0.048283019\n",
       "3,REACTOME_TRANSMISSION_ACROSS_CHEMICAL_SYNAPSES -0.006897807  0.043636271\n",
       "4,REACTOME_NEURONAL_SYSTEM                        0.027453577 -0.041370318\n",
       "LV 5                                              0.017448294 -0.060001645\n",
       "LV 6                                             -0.004379551  0.061410724\n",
       "7,IRIS_Neutrophil-Resting                        -0.080901625 -0.089031326\n",
       "8,KEGG_PPAR_SIGNALING_PATHWAY                    -0.007961799 -0.100436616\n",
       "LV 9                                             -0.013467576  0.007585578\n",
       "10,SVM Macrophages M0                             0.012146043 -0.061066100\n",
       "                                                 00181-0      00234-0      \n",
       "1,REACTOME_MRNA_SPLICING                          0.033916849 -0.0007790358\n",
       "2,SVM Monocytes                                  -0.052436882 -0.0500619312\n",
       "3,REACTOME_TRANSMISSION_ACROSS_CHEMICAL_SYNAPSES -0.041807814  0.0247366996\n",
       "4,REACTOME_NEURONAL_SYSTEM                        0.049110456  0.0497693154\n",
       "LV 5                                             -0.019730027  0.0274240952\n",
       "LV 6                                              0.008241706  0.0501137283\n",
       "7,IRIS_Neutrophil-Resting                        -0.066598034 -0.0180259054\n",
       "8,KEGG_PPAR_SIGNALING_PATHWAY                     0.026326809  0.0203580538\n",
       "LV 9                                             -0.007937155  0.0006474471\n",
       "10,SVM Macrophages M0                            -0.041958257 -0.0264450820\n",
       "                                                 00250-0       00266-0      ⋯\n",
       "1,REACTOME_MRNA_SPLICING                         -0.0550538495  0.307223472 ⋯\n",
       "2,SVM Monocytes                                   0.1014881826 -0.106715583 ⋯\n",
       "3,REACTOME_TRANSMISSION_ACROSS_CHEMICAL_SYNAPSES  0.0033781163 -0.040374505 ⋯\n",
       "4,REACTOME_NEURONAL_SYSTEM                        0.0498141323 -0.022980039 ⋯\n",
       "LV 5                                              0.0753578701  0.002400883 ⋯\n",
       "LV 6                                              0.0313095320 -0.003194558 ⋯\n",
       "7,IRIS_Neutrophil-Resting                         0.0072873850 -0.059118798 ⋯\n",
       "8,KEGG_PPAR_SIGNALING_PATHWAY                    -0.0004896021  0.006190327 ⋯\n",
       "LV 9                                             -0.0177954469 -0.059505412 ⋯\n",
       "10,SVM Macrophages M0                            -0.0019364648  0.010642824 ⋯\n",
       "                                                 39376-0      39390-0     \n",
       "1,REACTOME_MRNA_SPLICING                         -0.020805125  0.200051932\n",
       "2,SVM Monocytes                                  -0.110671875  0.097926147\n",
       "3,REACTOME_TRANSMISSION_ACROSS_CHEMICAL_SYNAPSES -0.003532239  0.025953059\n",
       "4,REACTOME_NEURONAL_SYSTEM                        0.010174065  0.008385931\n",
       "LV 5                                              0.006542319  0.012716513\n",
       "LV 6                                             -0.018788937  0.005204376\n",
       "7,IRIS_Neutrophil-Resting                         0.001568902 -0.108232463\n",
       "8,KEGG_PPAR_SIGNALING_PATHWAY                    -0.017983589 -0.009407780\n",
       "LV 9                                             -0.028677074  0.081923299\n",
       "10,SVM Macrophages M0                            -0.029438743  0.034574516\n",
       "                                                 50136-0       62291-0      \n",
       "1,REACTOME_MRNA_SPLICING                          0.0745357673  0.0790468803\n",
       "2,SVM Monocytes                                  -0.0420160001 -0.0271421926\n",
       "3,REACTOME_TRANSMISSION_ACROSS_CHEMICAL_SYNAPSES -0.0321982346  0.0007537681\n",
       "4,REACTOME_NEURONAL_SYSTEM                       -0.0202101409 -0.1275247825\n",
       "LV 5                                             -0.0071833708  0.0320062254\n",
       "LV 6                                              0.0004564716 -0.0563713341\n",
       "7,IRIS_Neutrophil-Resting                        -0.0593649686  0.1725609860\n",
       "8,KEGG_PPAR_SIGNALING_PATHWAY                     0.0097489890 -0.0206361462\n",
       "LV 9                                             -0.0183203750  0.0725068819\n",
       "10,SVM Macrophages M0                            -0.0440265411  0.0146507920\n",
       "                                                 81801-0      84002-0     \n",
       "1,REACTOME_MRNA_SPLICING                         -0.116613355 -0.024169235\n",
       "2,SVM Monocytes                                   0.084166292  0.102093727\n",
       "3,REACTOME_TRANSMISSION_ACROSS_CHEMICAL_SYNAPSES -0.027967879  0.025623630\n",
       "4,REACTOME_NEURONAL_SYSTEM                        0.049648173  0.012382789\n",
       "LV 5                                             -0.006807858 -0.013108250\n",
       "LV 6                                              0.020142820  0.058101390\n",
       "7,IRIS_Neutrophil-Resting                        -0.015811326 -0.015747363\n",
       "8,KEGG_PPAR_SIGNALING_PATHWAY                    -0.089435105  0.010622735\n",
       "LV 9                                             -0.058726972 -0.001301881\n",
       "10,SVM Macrophages M0                            -0.002235631  0.060245855\n",
       "                                                 84689-0     84731-0    \n",
       "1,REACTOME_MRNA_SPLICING                         -0.02599850  0.03331409\n",
       "2,SVM Monocytes                                   0.02434837 -0.03841368\n",
       "3,REACTOME_TRANSMISSION_ACROSS_CHEMICAL_SYNAPSES -0.10518150 -0.02992770\n",
       "4,REACTOME_NEURONAL_SYSTEM                        0.05540130  0.03620698\n",
       "LV 5                                              0.02927054 -0.02252472\n",
       "LV 6                                              0.02155339  0.03912967\n",
       "7,IRIS_Neutrophil-Resting                         0.02271727 -0.04820677\n",
       "8,KEGG_PPAR_SIGNALING_PATHWAY                     0.02822831  0.00188233\n",
       "LV 9                                             -0.13552119 -0.01361991\n",
       "10,SVM Macrophages M0                            -0.01860208 -0.01231577\n",
       "                                                 84860-0      85365-0     \n",
       "1,REACTOME_MRNA_SPLICING                          0.039020003 -0.039547995\n",
       "2,SVM Monocytes                                  -0.217559542 -0.190521648\n",
       "3,REACTOME_TRANSMISSION_ACROSS_CHEMICAL_SYNAPSES  0.005014077 -0.022716857\n",
       "4,REACTOME_NEURONAL_SYSTEM                        0.011494181 -0.002648721\n",
       "LV 5                                              0.012608763  0.021911458\n",
       "LV 6                                              0.008472160  0.018468082\n",
       "7,IRIS_Neutrophil-Resting                        -0.104396531  0.103225530\n",
       "8,KEGG_PPAR_SIGNALING_PATHWAY                     0.013371025 -0.032186313\n",
       "LV 9                                              0.014036729  0.016115704\n",
       "10,SVM Macrophages M0                            -0.042654096  0.016234614"
      ]
     },
     "metadata": {},
     "output_type": "display_data"
    }
   ],
   "source": [
    "head(df_projection, 10)"
   ]
  }
 ],
 "metadata": {
  "kernelspec": {
   "display_name": "R [conda env:T1D_Pheno] *",
   "language": "R",
   "name": "conda-env-T1D_Pheno-r"
  },
  "language_info": {
   "codemirror_mode": "r",
   "file_extension": ".r",
   "mimetype": "text/x-r-source",
   "name": "R",
   "pygments_lexer": "r",
   "version": "4.4.2"
  }
 },
 "nbformat": 4,
 "nbformat_minor": 4
}
