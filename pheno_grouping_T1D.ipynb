{
 "cells": [
  {
   "cell_type": "markdown",
   "metadata": {},
   "source": [
    "# Grouping modules by T1D progression categories (P, M, R)\n",
    "\n",
    "This notebook extract top LV from differentially expressed genes in P, M, R groups\n",
    "\n",
    "Sakaiza Rasolofomanana Rajery\n",
    "\n",
    "12/19/2024"
   ]
  },
  {
   "cell_type": "markdown",
   "metadata": {},
   "source": [
    "# load packages"
   ]
  },
  {
   "cell_type": "code",
   "execution_count": 19,
   "metadata": {},
   "outputs": [],
   "source": [
    "library(tidyverse, warn.conflicts=FALSE)\n",
    "library(reticulate)\n",
    "library(\"ggpubr\")"
   ]
  },
  {
   "cell_type": "markdown",
   "metadata": {},
   "source": [
    "# load data: RNA_seq_projection, RNA_pheno_file,"
   ]
  },
  {
   "cell_type": "markdown",
   "metadata": {},
   "source": [
    "### RNA_pheno_file"
   ]
  },
  {
   "cell_type": "code",
   "execution_count": 20,
   "metadata": {},
   "outputs": [
    {
     "data": {
      "text/html": [
       "<style>\n",
       ".list-inline {list-style: none; margin:0; padding: 0}\n",
       ".list-inline>li {display: inline-block}\n",
       ".list-inline>li:not(:last-child)::after {content: \"\\00b7\"; padding: 0 .5ex}\n",
       "</style>\n",
       "<ol class=list-inline><li>136</li><li>22</li></ol>\n"
      ],
      "text/latex": [
       "\\begin{enumerate*}\n",
       "\\item 136\n",
       "\\item 22\n",
       "\\end{enumerate*}\n"
      ],
      "text/markdown": [
       "1. 136\n",
       "2. 22\n",
       "\n",
       "\n"
      ],
      "text/plain": [
       "[1] 136  22"
      ]
     },
     "metadata": {},
     "output_type": "display_data"
    },
    {
     "data": {
      "text/html": [
       "<table class=\"dataframe\">\n",
       "<caption>A tibble: 5 × 22</caption>\n",
       "<thead>\n",
       "\t<tr><th scope=col>ID</th><th scope=col>Group</th><th scope=col>Freezer_Time</th><th scope=col>Female_YN</th><th scope=col>Multiple_DAISY_Baseline</th><th scope=col>S_W</th><th scope=col>NHW_YN</th><th scope=col>dr34_YN</th><th scope=col>FDR_YN</th><th scope=col>Age</th><th scope=col>⋯</th><th scope=col>PC1</th><th scope=col>PC2</th><th scope=col>PC3</th><th scope=col>PC4</th><th scope=col>PC5</th><th scope=col>PC6</th><th scope=col>PC7</th><th scope=col>PC8</th><th scope=col>PC9</th><th scope=col>PC10</th></tr>\n",
       "\t<tr><th scope=col>&lt;chr&gt;</th><th scope=col>&lt;chr&gt;</th><th scope=col>&lt;dbl&gt;</th><th scope=col>&lt;dbl&gt;</th><th scope=col>&lt;dbl&gt;</th><th scope=col>&lt;dbl&gt;</th><th scope=col>&lt;dbl&gt;</th><th scope=col>&lt;dbl&gt;</th><th scope=col>&lt;dbl&gt;</th><th scope=col>&lt;dbl&gt;</th><th scope=col>⋯</th><th scope=col>&lt;dbl&gt;</th><th scope=col>&lt;dbl&gt;</th><th scope=col>&lt;dbl&gt;</th><th scope=col>&lt;dbl&gt;</th><th scope=col>&lt;dbl&gt;</th><th scope=col>&lt;dbl&gt;</th><th scope=col>&lt;dbl&gt;</th><th scope=col>&lt;dbl&gt;</th><th scope=col>&lt;dbl&gt;</th><th scope=col>&lt;dbl&gt;</th></tr>\n",
       "</thead>\n",
       "<tbody>\n",
       "\t<tr><td>00041-0</td><td>Maintainer</td><td>11.6797</td><td>0</td><td>0</td><td>0.7595215</td><td>1</td><td>1</td><td>1</td><td>17.1307</td><td>⋯</td><td>-0.0067</td><td>-0.0068</td><td>0.0137</td><td>-0.0646</td><td> 0.0774</td><td>-0.0040</td><td>-0.0006</td><td>-0.1208</td><td>-0.0602</td><td> 0.0387</td></tr>\n",
       "\t<tr><td>00110-0</td><td>Reverter  </td><td>10.2533</td><td>0</td><td>0</td><td>0.8285043</td><td>1</td><td>0</td><td>1</td><td>16.5147</td><td>⋯</td><td>-0.0241</td><td> 0.0202</td><td>0.0288</td><td>-0.0130</td><td>-0.0043</td><td>-0.0021</td><td> 0.0049</td><td>-0.0195</td><td> 0.0382</td><td>-0.0268</td></tr>\n",
       "\t<tr><td>00139-0</td><td>Reverter  </td><td> 8.0958</td><td>1</td><td>0</td><td>1.2423768</td><td>1</td><td>0</td><td>1</td><td>20.2026</td><td>⋯</td><td>-0.0266</td><td> 0.0165</td><td>0.0110</td><td>-0.0258</td><td>-0.0262</td><td>-0.0255</td><td> 0.0011</td><td>-0.0085</td><td> 0.0179</td><td>-0.0127</td></tr>\n",
       "\t<tr><td>00159-0</td><td>Maintainer</td><td>10.2587</td><td>1</td><td>0</td><td>0.7426269</td><td>1</td><td>0</td><td>1</td><td>15.0664</td><td>⋯</td><td>-0.0212</td><td> 0.0141</td><td>0.0175</td><td> 0.0184</td><td>-0.0315</td><td> 0.0144</td><td>-0.0265</td><td> 0.0290</td><td> 0.0285</td><td>-0.0546</td></tr>\n",
       "\t<tr><td>00174-0</td><td>Progressor</td><td> 4.7420</td><td>0</td><td>0</td><td>1.2078117</td><td>1</td><td>0</td><td>1</td><td>15.7782</td><td>⋯</td><td> 0.0049</td><td> 0.0110</td><td>0.0058</td><td> 0.0759</td><td> 0.0029</td><td>-0.0036</td><td> 0.0014</td><td>-0.0046</td><td>-0.0043</td><td>-0.0068</td></tr>\n",
       "</tbody>\n",
       "</table>\n"
      ],
      "text/latex": [
       "A tibble: 5 × 22\n",
       "\\begin{tabular}{lllllllllllllllllllll}\n",
       " ID & Group & Freezer\\_Time & Female\\_YN & Multiple\\_DAISY\\_Baseline & S\\_W & NHW\\_YN & dr34\\_YN & FDR\\_YN & Age & ⋯ & PC1 & PC2 & PC3 & PC4 & PC5 & PC6 & PC7 & PC8 & PC9 & PC10\\\\\n",
       " <chr> & <chr> & <dbl> & <dbl> & <dbl> & <dbl> & <dbl> & <dbl> & <dbl> & <dbl> & ⋯ & <dbl> & <dbl> & <dbl> & <dbl> & <dbl> & <dbl> & <dbl> & <dbl> & <dbl> & <dbl>\\\\\n",
       "\\hline\n",
       "\t 00041-0 & Maintainer & 11.6797 & 0 & 0 & 0.7595215 & 1 & 1 & 1 & 17.1307 & ⋯ & -0.0067 & -0.0068 & 0.0137 & -0.0646 &  0.0774 & -0.0040 & -0.0006 & -0.1208 & -0.0602 &  0.0387\\\\\n",
       "\t 00110-0 & Reverter   & 10.2533 & 0 & 0 & 0.8285043 & 1 & 0 & 1 & 16.5147 & ⋯ & -0.0241 &  0.0202 & 0.0288 & -0.0130 & -0.0043 & -0.0021 &  0.0049 & -0.0195 &  0.0382 & -0.0268\\\\\n",
       "\t 00139-0 & Reverter   &  8.0958 & 1 & 0 & 1.2423768 & 1 & 0 & 1 & 20.2026 & ⋯ & -0.0266 &  0.0165 & 0.0110 & -0.0258 & -0.0262 & -0.0255 &  0.0011 & -0.0085 &  0.0179 & -0.0127\\\\\n",
       "\t 00159-0 & Maintainer & 10.2587 & 1 & 0 & 0.7426269 & 1 & 0 & 1 & 15.0664 & ⋯ & -0.0212 &  0.0141 & 0.0175 &  0.0184 & -0.0315 &  0.0144 & -0.0265 &  0.0290 &  0.0285 & -0.0546\\\\\n",
       "\t 00174-0 & Progressor &  4.7420 & 0 & 0 & 1.2078117 & 1 & 0 & 1 & 15.7782 & ⋯ &  0.0049 &  0.0110 & 0.0058 &  0.0759 &  0.0029 & -0.0036 &  0.0014 & -0.0046 & -0.0043 & -0.0068\\\\\n",
       "\\end{tabular}\n"
      ],
      "text/markdown": [
       "\n",
       "A tibble: 5 × 22\n",
       "\n",
       "| ID &lt;chr&gt; | Group &lt;chr&gt; | Freezer_Time &lt;dbl&gt; | Female_YN &lt;dbl&gt; | Multiple_DAISY_Baseline &lt;dbl&gt; | S_W &lt;dbl&gt; | NHW_YN &lt;dbl&gt; | dr34_YN &lt;dbl&gt; | FDR_YN &lt;dbl&gt; | Age &lt;dbl&gt; | ⋯ ⋯ | PC1 &lt;dbl&gt; | PC2 &lt;dbl&gt; | PC3 &lt;dbl&gt; | PC4 &lt;dbl&gt; | PC5 &lt;dbl&gt; | PC6 &lt;dbl&gt; | PC7 &lt;dbl&gt; | PC8 &lt;dbl&gt; | PC9 &lt;dbl&gt; | PC10 &lt;dbl&gt; |\n",
       "|---|---|---|---|---|---|---|---|---|---|---|---|---|---|---|---|---|---|---|---|---|\n",
       "| 00041-0 | Maintainer | 11.6797 | 0 | 0 | 0.7595215 | 1 | 1 | 1 | 17.1307 | ⋯ | -0.0067 | -0.0068 | 0.0137 | -0.0646 |  0.0774 | -0.0040 | -0.0006 | -0.1208 | -0.0602 |  0.0387 |\n",
       "| 00110-0 | Reverter   | 10.2533 | 0 | 0 | 0.8285043 | 1 | 0 | 1 | 16.5147 | ⋯ | -0.0241 |  0.0202 | 0.0288 | -0.0130 | -0.0043 | -0.0021 |  0.0049 | -0.0195 |  0.0382 | -0.0268 |\n",
       "| 00139-0 | Reverter   |  8.0958 | 1 | 0 | 1.2423768 | 1 | 0 | 1 | 20.2026 | ⋯ | -0.0266 |  0.0165 | 0.0110 | -0.0258 | -0.0262 | -0.0255 |  0.0011 | -0.0085 |  0.0179 | -0.0127 |\n",
       "| 00159-0 | Maintainer | 10.2587 | 1 | 0 | 0.7426269 | 1 | 0 | 1 | 15.0664 | ⋯ | -0.0212 |  0.0141 | 0.0175 |  0.0184 | -0.0315 |  0.0144 | -0.0265 |  0.0290 |  0.0285 | -0.0546 |\n",
       "| 00174-0 | Progressor |  4.7420 | 0 | 0 | 1.2078117 | 1 | 0 | 1 | 15.7782 | ⋯ |  0.0049 |  0.0110 | 0.0058 |  0.0759 |  0.0029 | -0.0036 |  0.0014 | -0.0046 | -0.0043 | -0.0068 |\n",
       "\n"
      ],
      "text/plain": [
       "  ID      Group      Freezer_Time Female_YN Multiple_DAISY_Baseline S_W      \n",
       "1 00041-0 Maintainer 11.6797      0         0                       0.7595215\n",
       "2 00110-0 Reverter   10.2533      0         0                       0.8285043\n",
       "3 00139-0 Reverter    8.0958      1         0                       1.2423768\n",
       "4 00159-0 Maintainer 10.2587      1         0                       0.7426269\n",
       "5 00174-0 Progressor  4.7420      0         0                       1.2078117\n",
       "  NHW_YN dr34_YN FDR_YN Age     ⋯ PC1     PC2     PC3    PC4     PC5    \n",
       "1 1      1       1      17.1307 ⋯ -0.0067 -0.0068 0.0137 -0.0646  0.0774\n",
       "2 1      0       1      16.5147 ⋯ -0.0241  0.0202 0.0288 -0.0130 -0.0043\n",
       "3 1      0       1      20.2026 ⋯ -0.0266  0.0165 0.0110 -0.0258 -0.0262\n",
       "4 1      0       1      15.0664 ⋯ -0.0212  0.0141 0.0175  0.0184 -0.0315\n",
       "5 1      0       1      15.7782 ⋯  0.0049  0.0110 0.0058  0.0759  0.0029\n",
       "  PC6     PC7     PC8     PC9     PC10   \n",
       "1 -0.0040 -0.0006 -0.1208 -0.0602  0.0387\n",
       "2 -0.0021  0.0049 -0.0195  0.0382 -0.0268\n",
       "3 -0.0255  0.0011 -0.0085  0.0179 -0.0127\n",
       "4  0.0144 -0.0265  0.0290  0.0285 -0.0546\n",
       "5 -0.0036  0.0014 -0.0046 -0.0043 -0.0068"
      ]
     },
     "metadata": {},
     "output_type": "display_data"
    }
   ],
   "source": [
    "# path to rna dataset\n",
    "path_to_rna <- \"/Users/rasolofs/Library/CloudStorage/OneDrive-TheUniversityofColoradoDenver/DAISY RNA Phenoplier\"\n",
    "RNA_pheno <- read_csv(paste0(path_to_rna,\"/DAISY_RNASeq_Phenotype_Deidentified.csv\"), col_types = cols())\n",
    "dim(RNA_pheno)\n",
    "head(RNA_pheno,5)"
   ]
  },
  {
   "cell_type": "markdown",
   "metadata": {},
   "source": [
    "## RNA_seq_projection "
   ]
  },
  {
   "cell_type": "code",
   "execution_count": 21,
   "metadata": {
    "scrolled": true
   },
   "outputs": [
    {
     "data": {
      "text/html": [
       "<style>\n",
       ".list-inline {list-style: none; margin:0; padding: 0}\n",
       ".list-inline>li {display: inline-block}\n",
       ".list-inline>li:not(:last-child)::after {content: \"\\00b7\"; padding: 0 .5ex}\n",
       "</style>\n",
       "<ol class=list-inline><li>987</li><li>136</li></ol>\n"
      ],
      "text/latex": [
       "\\begin{enumerate*}\n",
       "\\item 987\n",
       "\\item 136\n",
       "\\end{enumerate*}\n"
      ],
      "text/markdown": [
       "1. 987\n",
       "2. 136\n",
       "\n",
       "\n"
      ],
      "text/plain": [
       "[1] 987 136"
      ]
     },
     "metadata": {},
     "output_type": "display_data"
    },
    {
     "data": {
      "text/html": [
       "<table class=\"dataframe\">\n",
       "<caption>A data.frame: 5 × 136</caption>\n",
       "<thead>\n",
       "\t<tr><th></th><th scope=col>00041-0</th><th scope=col>00110-0</th><th scope=col>00139-0</th><th scope=col>00159-0</th><th scope=col>00174-0</th><th scope=col>00177-0</th><th scope=col>00181-0</th><th scope=col>00234-0</th><th scope=col>00250-0</th><th scope=col>00266-0</th><th scope=col>⋯</th><th scope=col>39376-0</th><th scope=col>39390-0</th><th scope=col>50136-0</th><th scope=col>62291-0</th><th scope=col>81801-0</th><th scope=col>84002-0</th><th scope=col>84689-0</th><th scope=col>84731-0</th><th scope=col>84860-0</th><th scope=col>85365-0</th></tr>\n",
       "\t<tr><th></th><th scope=col>&lt;dbl&gt;</th><th scope=col>&lt;dbl&gt;</th><th scope=col>&lt;dbl&gt;</th><th scope=col>&lt;dbl&gt;</th><th scope=col>&lt;dbl&gt;</th><th scope=col>&lt;dbl&gt;</th><th scope=col>&lt;dbl&gt;</th><th scope=col>&lt;dbl&gt;</th><th scope=col>&lt;dbl&gt;</th><th scope=col>&lt;dbl&gt;</th><th scope=col>⋯</th><th scope=col>&lt;dbl&gt;</th><th scope=col>&lt;dbl&gt;</th><th scope=col>&lt;dbl&gt;</th><th scope=col>&lt;dbl&gt;</th><th scope=col>&lt;dbl&gt;</th><th scope=col>&lt;dbl&gt;</th><th scope=col>&lt;dbl&gt;</th><th scope=col>&lt;dbl&gt;</th><th scope=col>&lt;dbl&gt;</th><th scope=col>&lt;dbl&gt;</th></tr>\n",
       "</thead>\n",
       "<tbody>\n",
       "\t<tr><th scope=row>1,REACTOME_MRNA_SPLICING</th><td> 0.045748028</td><td>-0.08426191</td><td>-0.07769718</td><td>-0.07853920</td><td> 0.022015152</td><td> 0.11490328</td><td> 0.03391685</td><td>-0.0007790358</td><td>-0.055053849</td><td> 0.307223472</td><td>⋯</td><td>-0.020805125</td><td>0.200051932</td><td> 0.074535767</td><td> 0.0790468803</td><td>-0.116613355</td><td>-0.02416923</td><td>-0.02599850</td><td> 0.03331409</td><td> 0.039020003</td><td>-0.039547995</td></tr>\n",
       "\t<tr><th scope=row>2,SVM Monocytes</th><td> 0.104307804</td><td> 0.02627734</td><td>-0.04991374</td><td> 0.26645777</td><td>-0.008530261</td><td>-0.04828302</td><td>-0.05243688</td><td>-0.0500619312</td><td> 0.101488183</td><td>-0.106715583</td><td>⋯</td><td>-0.110671875</td><td>0.097926147</td><td>-0.042016000</td><td>-0.0271421926</td><td> 0.084166292</td><td> 0.10209373</td><td> 0.02434837</td><td>-0.03841368</td><td>-0.217559542</td><td>-0.190521648</td></tr>\n",
       "\t<tr><th scope=row>3,REACTOME_TRANSMISSION_ACROSS_CHEMICAL_SYNAPSES</th><td>-0.034338781</td><td>-0.02141530</td><td>-0.10229196</td><td>-0.00426107</td><td>-0.006897807</td><td> 0.04363627</td><td>-0.04180781</td><td> 0.0247366996</td><td> 0.003378116</td><td>-0.040374505</td><td>⋯</td><td>-0.003532239</td><td>0.025953059</td><td>-0.032198235</td><td> 0.0007537681</td><td>-0.027967879</td><td> 0.02562363</td><td>-0.10518150</td><td>-0.02992770</td><td> 0.005014077</td><td>-0.022716857</td></tr>\n",
       "\t<tr><th scope=row>4,REACTOME_NEURONAL_SYSTEM</th><td> 0.056377294</td><td> 0.04507367</td><td> 0.09735670</td><td> 0.04125927</td><td> 0.027453577</td><td>-0.04137032</td><td> 0.04911046</td><td> 0.0497693154</td><td> 0.049814132</td><td>-0.022980039</td><td>⋯</td><td> 0.010174065</td><td>0.008385931</td><td>-0.020210141</td><td>-0.1275247825</td><td> 0.049648173</td><td> 0.01238279</td><td> 0.05540130</td><td> 0.03620698</td><td> 0.011494181</td><td>-0.002648721</td></tr>\n",
       "\t<tr><th scope=row>LV 5</th><td>-0.006014439</td><td> 0.00770212</td><td>-0.02353528</td><td> 0.01078596</td><td> 0.017448294</td><td>-0.06000165</td><td>-0.01973003</td><td> 0.0274240952</td><td> 0.075357870</td><td> 0.002400883</td><td>⋯</td><td> 0.006542319</td><td>0.012716513</td><td>-0.007183371</td><td> 0.0320062254</td><td>-0.006807858</td><td>-0.01310825</td><td> 0.02927054</td><td>-0.02252472</td><td> 0.012608763</td><td> 0.021911458</td></tr>\n",
       "</tbody>\n",
       "</table>\n"
      ],
      "text/latex": [
       "A data.frame: 5 × 136\n",
       "\\begin{tabular}{r|lllllllllllllllllllll}\n",
       "  & 00041-0 & 00110-0 & 00139-0 & 00159-0 & 00174-0 & 00177-0 & 00181-0 & 00234-0 & 00250-0 & 00266-0 & ⋯ & 39376-0 & 39390-0 & 50136-0 & 62291-0 & 81801-0 & 84002-0 & 84689-0 & 84731-0 & 84860-0 & 85365-0\\\\\n",
       "  & <dbl> & <dbl> & <dbl> & <dbl> & <dbl> & <dbl> & <dbl> & <dbl> & <dbl> & <dbl> & ⋯ & <dbl> & <dbl> & <dbl> & <dbl> & <dbl> & <dbl> & <dbl> & <dbl> & <dbl> & <dbl>\\\\\n",
       "\\hline\n",
       "\t1,REACTOME\\_MRNA\\_SPLICING &  0.045748028 & -0.08426191 & -0.07769718 & -0.07853920 &  0.022015152 &  0.11490328 &  0.03391685 & -0.0007790358 & -0.055053849 &  0.307223472 & ⋯ & -0.020805125 & 0.200051932 &  0.074535767 &  0.0790468803 & -0.116613355 & -0.02416923 & -0.02599850 &  0.03331409 &  0.039020003 & -0.039547995\\\\\n",
       "\t2,SVM Monocytes &  0.104307804 &  0.02627734 & -0.04991374 &  0.26645777 & -0.008530261 & -0.04828302 & -0.05243688 & -0.0500619312 &  0.101488183 & -0.106715583 & ⋯ & -0.110671875 & 0.097926147 & -0.042016000 & -0.0271421926 &  0.084166292 &  0.10209373 &  0.02434837 & -0.03841368 & -0.217559542 & -0.190521648\\\\\n",
       "\t3,REACTOME\\_TRANSMISSION\\_ACROSS\\_CHEMICAL\\_SYNAPSES & -0.034338781 & -0.02141530 & -0.10229196 & -0.00426107 & -0.006897807 &  0.04363627 & -0.04180781 &  0.0247366996 &  0.003378116 & -0.040374505 & ⋯ & -0.003532239 & 0.025953059 & -0.032198235 &  0.0007537681 & -0.027967879 &  0.02562363 & -0.10518150 & -0.02992770 &  0.005014077 & -0.022716857\\\\\n",
       "\t4,REACTOME\\_NEURONAL\\_SYSTEM &  0.056377294 &  0.04507367 &  0.09735670 &  0.04125927 &  0.027453577 & -0.04137032 &  0.04911046 &  0.0497693154 &  0.049814132 & -0.022980039 & ⋯ &  0.010174065 & 0.008385931 & -0.020210141 & -0.1275247825 &  0.049648173 &  0.01238279 &  0.05540130 &  0.03620698 &  0.011494181 & -0.002648721\\\\\n",
       "\tLV 5 & -0.006014439 &  0.00770212 & -0.02353528 &  0.01078596 &  0.017448294 & -0.06000165 & -0.01973003 &  0.0274240952 &  0.075357870 &  0.002400883 & ⋯ &  0.006542319 & 0.012716513 & -0.007183371 &  0.0320062254 & -0.006807858 & -0.01310825 &  0.02927054 & -0.02252472 &  0.012608763 &  0.021911458\\\\\n",
       "\\end{tabular}\n"
      ],
      "text/markdown": [
       "\n",
       "A data.frame: 5 × 136\n",
       "\n",
       "| <!--/--> | 00041-0 &lt;dbl&gt; | 00110-0 &lt;dbl&gt; | 00139-0 &lt;dbl&gt; | 00159-0 &lt;dbl&gt; | 00174-0 &lt;dbl&gt; | 00177-0 &lt;dbl&gt; | 00181-0 &lt;dbl&gt; | 00234-0 &lt;dbl&gt; | 00250-0 &lt;dbl&gt; | 00266-0 &lt;dbl&gt; | ⋯ ⋯ | 39376-0 &lt;dbl&gt; | 39390-0 &lt;dbl&gt; | 50136-0 &lt;dbl&gt; | 62291-0 &lt;dbl&gt; | 81801-0 &lt;dbl&gt; | 84002-0 &lt;dbl&gt; | 84689-0 &lt;dbl&gt; | 84731-0 &lt;dbl&gt; | 84860-0 &lt;dbl&gt; | 85365-0 &lt;dbl&gt; |\n",
       "|---|---|---|---|---|---|---|---|---|---|---|---|---|---|---|---|---|---|---|---|---|---|\n",
       "| 1,REACTOME_MRNA_SPLICING |  0.045748028 | -0.08426191 | -0.07769718 | -0.07853920 |  0.022015152 |  0.11490328 |  0.03391685 | -0.0007790358 | -0.055053849 |  0.307223472 | ⋯ | -0.020805125 | 0.200051932 |  0.074535767 |  0.0790468803 | -0.116613355 | -0.02416923 | -0.02599850 |  0.03331409 |  0.039020003 | -0.039547995 |\n",
       "| 2,SVM Monocytes |  0.104307804 |  0.02627734 | -0.04991374 |  0.26645777 | -0.008530261 | -0.04828302 | -0.05243688 | -0.0500619312 |  0.101488183 | -0.106715583 | ⋯ | -0.110671875 | 0.097926147 | -0.042016000 | -0.0271421926 |  0.084166292 |  0.10209373 |  0.02434837 | -0.03841368 | -0.217559542 | -0.190521648 |\n",
       "| 3,REACTOME_TRANSMISSION_ACROSS_CHEMICAL_SYNAPSES | -0.034338781 | -0.02141530 | -0.10229196 | -0.00426107 | -0.006897807 |  0.04363627 | -0.04180781 |  0.0247366996 |  0.003378116 | -0.040374505 | ⋯ | -0.003532239 | 0.025953059 | -0.032198235 |  0.0007537681 | -0.027967879 |  0.02562363 | -0.10518150 | -0.02992770 |  0.005014077 | -0.022716857 |\n",
       "| 4,REACTOME_NEURONAL_SYSTEM |  0.056377294 |  0.04507367 |  0.09735670 |  0.04125927 |  0.027453577 | -0.04137032 |  0.04911046 |  0.0497693154 |  0.049814132 | -0.022980039 | ⋯ |  0.010174065 | 0.008385931 | -0.020210141 | -0.1275247825 |  0.049648173 |  0.01238279 |  0.05540130 |  0.03620698 |  0.011494181 | -0.002648721 |\n",
       "| LV 5 | -0.006014439 |  0.00770212 | -0.02353528 |  0.01078596 |  0.017448294 | -0.06000165 | -0.01973003 |  0.0274240952 |  0.075357870 |  0.002400883 | ⋯ |  0.006542319 | 0.012716513 | -0.007183371 |  0.0320062254 | -0.006807858 | -0.01310825 |  0.02927054 | -0.02252472 |  0.012608763 |  0.021911458 |\n",
       "\n"
      ],
      "text/plain": [
       "                                                 00041-0      00110-0    \n",
       "1,REACTOME_MRNA_SPLICING                          0.045748028 -0.08426191\n",
       "2,SVM Monocytes                                   0.104307804  0.02627734\n",
       "3,REACTOME_TRANSMISSION_ACROSS_CHEMICAL_SYNAPSES -0.034338781 -0.02141530\n",
       "4,REACTOME_NEURONAL_SYSTEM                        0.056377294  0.04507367\n",
       "LV 5                                             -0.006014439  0.00770212\n",
       "                                                 00139-0     00159-0    \n",
       "1,REACTOME_MRNA_SPLICING                         -0.07769718 -0.07853920\n",
       "2,SVM Monocytes                                  -0.04991374  0.26645777\n",
       "3,REACTOME_TRANSMISSION_ACROSS_CHEMICAL_SYNAPSES -0.10229196 -0.00426107\n",
       "4,REACTOME_NEURONAL_SYSTEM                        0.09735670  0.04125927\n",
       "LV 5                                             -0.02353528  0.01078596\n",
       "                                                 00174-0      00177-0    \n",
       "1,REACTOME_MRNA_SPLICING                          0.022015152  0.11490328\n",
       "2,SVM Monocytes                                  -0.008530261 -0.04828302\n",
       "3,REACTOME_TRANSMISSION_ACROSS_CHEMICAL_SYNAPSES -0.006897807  0.04363627\n",
       "4,REACTOME_NEURONAL_SYSTEM                        0.027453577 -0.04137032\n",
       "LV 5                                              0.017448294 -0.06000165\n",
       "                                                 00181-0     00234-0      \n",
       "1,REACTOME_MRNA_SPLICING                          0.03391685 -0.0007790358\n",
       "2,SVM Monocytes                                  -0.05243688 -0.0500619312\n",
       "3,REACTOME_TRANSMISSION_ACROSS_CHEMICAL_SYNAPSES -0.04180781  0.0247366996\n",
       "4,REACTOME_NEURONAL_SYSTEM                        0.04911046  0.0497693154\n",
       "LV 5                                             -0.01973003  0.0274240952\n",
       "                                                 00250-0      00266-0      ⋯\n",
       "1,REACTOME_MRNA_SPLICING                         -0.055053849  0.307223472 ⋯\n",
       "2,SVM Monocytes                                   0.101488183 -0.106715583 ⋯\n",
       "3,REACTOME_TRANSMISSION_ACROSS_CHEMICAL_SYNAPSES  0.003378116 -0.040374505 ⋯\n",
       "4,REACTOME_NEURONAL_SYSTEM                        0.049814132 -0.022980039 ⋯\n",
       "LV 5                                              0.075357870  0.002400883 ⋯\n",
       "                                                 39376-0      39390-0    \n",
       "1,REACTOME_MRNA_SPLICING                         -0.020805125 0.200051932\n",
       "2,SVM Monocytes                                  -0.110671875 0.097926147\n",
       "3,REACTOME_TRANSMISSION_ACROSS_CHEMICAL_SYNAPSES -0.003532239 0.025953059\n",
       "4,REACTOME_NEURONAL_SYSTEM                        0.010174065 0.008385931\n",
       "LV 5                                              0.006542319 0.012716513\n",
       "                                                 50136-0      62291-0      \n",
       "1,REACTOME_MRNA_SPLICING                          0.074535767  0.0790468803\n",
       "2,SVM Monocytes                                  -0.042016000 -0.0271421926\n",
       "3,REACTOME_TRANSMISSION_ACROSS_CHEMICAL_SYNAPSES -0.032198235  0.0007537681\n",
       "4,REACTOME_NEURONAL_SYSTEM                       -0.020210141 -0.1275247825\n",
       "LV 5                                             -0.007183371  0.0320062254\n",
       "                                                 81801-0      84002-0    \n",
       "1,REACTOME_MRNA_SPLICING                         -0.116613355 -0.02416923\n",
       "2,SVM Monocytes                                   0.084166292  0.10209373\n",
       "3,REACTOME_TRANSMISSION_ACROSS_CHEMICAL_SYNAPSES -0.027967879  0.02562363\n",
       "4,REACTOME_NEURONAL_SYSTEM                        0.049648173  0.01238279\n",
       "LV 5                                             -0.006807858 -0.01310825\n",
       "                                                 84689-0     84731-0    \n",
       "1,REACTOME_MRNA_SPLICING                         -0.02599850  0.03331409\n",
       "2,SVM Monocytes                                   0.02434837 -0.03841368\n",
       "3,REACTOME_TRANSMISSION_ACROSS_CHEMICAL_SYNAPSES -0.10518150 -0.02992770\n",
       "4,REACTOME_NEURONAL_SYSTEM                        0.05540130  0.03620698\n",
       "LV 5                                              0.02927054 -0.02252472\n",
       "                                                 84860-0      85365-0     \n",
       "1,REACTOME_MRNA_SPLICING                          0.039020003 -0.039547995\n",
       "2,SVM Monocytes                                  -0.217559542 -0.190521648\n",
       "3,REACTOME_TRANSMISSION_ACROSS_CHEMICAL_SYNAPSES  0.005014077 -0.022716857\n",
       "4,REACTOME_NEURONAL_SYSTEM                        0.011494181 -0.002648721\n",
       "LV 5                                              0.012608763  0.021911458"
      ]
     },
     "metadata": {},
     "output_type": "display_data"
    }
   ],
   "source": [
    "RNA_proj <- readRDS(\"output/projection_1.rds\")\n",
    "dim(RNA_proj)\n",
    "head(RNA_proj,5)"
   ]
  },
  {
   "cell_type": "code",
   "execution_count": 41,
   "metadata": {},
   "outputs": [
    {
     "data": {
      "text/html": [
       "987"
      ],
      "text/latex": [
       "987"
      ],
      "text/markdown": [
       "987"
      ],
      "text/plain": [
       "[1] 987"
      ]
     },
     "metadata": {},
     "output_type": "display_data"
    }
   ],
   "source": [
    "RNA_proj_t <- data.frame(t(RNA_proj))\n",
    "LV_col <- colnames(RNA_proj_t)\n",
    "length(LV_col)"
   ]
  },
  {
   "cell_type": "code",
   "execution_count": 43,
   "metadata": {},
   "outputs": [],
   "source": [
    "# convert matrix to dataframe with gene as rownames\n",
    "RNA_proj_t <- cbind(ID = colnames(RNA_proj), t(RNA_proj))\n",
    "# merge dataframe with 'name_to_ID' (file containing name and ensembleID) by gene\n",
    "RNA_proj_group <- merge(RNA_proj_t, RNA_pheno[,1:2], by = \"ID\")\n",
    "#set rownames of new dataframe to ensembleID\n",
    "#rownames(EnsID_df) <- EnsID_df$EnsemblID\n",
    "#remove gene and ensembleID column\n",
    "#z_matrix <- as.matrix(EnsID_df[, !(colnames(EnsID_df) %in% c(\"gene\", \"EnsemblID\"))])\n",
    "\n",
    "colnames(RNA_proj_group)[2:988] <- LV_col\n",
    "#this <- RNA_proj_group[,LV_col]\n",
    "RNA_proj_group[,LV_col] <- sapply(RNA_proj_group[,LV_col], function(x) as.numeric(as.character(x)))\n",
    "\n",
    "                                  "
   ]
  },
  {
   "cell_type": "code",
   "execution_count": 44,
   "metadata": {},
   "outputs": [
    {
     "data": {
      "text/html": [
       "<table class=\"dataframe\">\n",
       "<caption>A data.frame: 5 × 989</caption>\n",
       "<thead>\n",
       "\t<tr><th></th><th scope=col>ID</th><th scope=col>X1.REACTOME_MRNA_SPLICING</th><th scope=col>X2.SVM.Monocytes</th><th scope=col>X3.REACTOME_TRANSMISSION_ACROSS_CHEMICAL_SYNAPSES</th><th scope=col>X4.REACTOME_NEURONAL_SYSTEM</th><th scope=col>LV.5</th><th scope=col>LV.6</th><th scope=col>X7.IRIS_Neutrophil.Resting</th><th scope=col>X8.KEGG_PPAR_SIGNALING_PATHWAY</th><th scope=col>LV.9</th><th scope=col>⋯</th><th scope=col>LV.979</th><th scope=col>LV.980</th><th scope=col>LV.981</th><th scope=col>LV.982</th><th scope=col>LV.983</th><th scope=col>LV.984</th><th scope=col>X985.IRIS_Neutrophil.Resting</th><th scope=col>LV.986</th><th scope=col>LV.987</th><th scope=col>Group</th></tr>\n",
       "\t<tr><th></th><th scope=col>&lt;chr&gt;</th><th scope=col>&lt;dbl&gt;</th><th scope=col>&lt;dbl&gt;</th><th scope=col>&lt;dbl&gt;</th><th scope=col>&lt;dbl&gt;</th><th scope=col>&lt;dbl&gt;</th><th scope=col>&lt;dbl&gt;</th><th scope=col>&lt;dbl&gt;</th><th scope=col>&lt;dbl&gt;</th><th scope=col>&lt;dbl&gt;</th><th scope=col>⋯</th><th scope=col>&lt;dbl&gt;</th><th scope=col>&lt;dbl&gt;</th><th scope=col>&lt;dbl&gt;</th><th scope=col>&lt;dbl&gt;</th><th scope=col>&lt;dbl&gt;</th><th scope=col>&lt;dbl&gt;</th><th scope=col>&lt;dbl&gt;</th><th scope=col>&lt;dbl&gt;</th><th scope=col>&lt;dbl&gt;</th><th scope=col>&lt;chr&gt;</th></tr>\n",
       "</thead>\n",
       "<tbody>\n",
       "\t<tr><th scope=row>1</th><td>00041-0</td><td> 0.04574803</td><td> 0.104307804</td><td>-0.034338781</td><td>0.05637729</td><td>-0.006014439</td><td> 0.013141592</td><td>-0.15869934</td><td>-0.014859012</td><td>-0.03240155</td><td>⋯</td><td> 0.034137770</td><td> 0.036996881</td><td> 0.039953190</td><td> 0.0001208903</td><td> 0.008096008</td><td>-0.28650232</td><td>-0.16010377</td><td>-0.016496984</td><td>-0.01857530</td><td>Maintainer</td></tr>\n",
       "\t<tr><th scope=row>2</th><td>00110-0</td><td>-0.08426191</td><td> 0.026277343</td><td>-0.021415299</td><td>0.04507367</td><td> 0.007702120</td><td> 0.040915288</td><td> 0.06129902</td><td> 0.032181881</td><td>-0.08186520</td><td>⋯</td><td>-0.008798991</td><td>-0.005897529</td><td>-0.023566109</td><td>-0.0156890102</td><td>-0.030152906</td><td>-0.47237525</td><td> 0.16645707</td><td> 0.005320207</td><td> 0.04090875</td><td>Reverter  </td></tr>\n",
       "\t<tr><th scope=row>3</th><td>00139-0</td><td>-0.07769718</td><td>-0.049913741</td><td>-0.102291965</td><td>0.09735670</td><td>-0.023535277</td><td> 0.033234436</td><td>-0.06710881</td><td> 0.008868332</td><td>-0.08689146</td><td>⋯</td><td> 0.004060664</td><td> 0.012191500</td><td> 0.008133505</td><td> 0.0115797178</td><td> 0.007200402</td><td>-0.01228895</td><td> 0.16295813</td><td> 0.020930740</td><td> 0.02287022</td><td>Reverter  </td></tr>\n",
       "\t<tr><th scope=row>4</th><td>00159-0</td><td>-0.07853920</td><td> 0.266457766</td><td>-0.004261070</td><td>0.04125927</td><td> 0.010785959</td><td>-0.026479309</td><td> 0.04325244</td><td> 0.005756415</td><td>-0.02808686</td><td>⋯</td><td> 0.016373535</td><td> 0.006476112</td><td> 0.025129735</td><td> 0.0283485458</td><td>-0.022585673</td><td>-0.36083597</td><td> 0.18419112</td><td>-0.050503989</td><td> 0.03623584</td><td>Maintainer</td></tr>\n",
       "\t<tr><th scope=row>5</th><td>00174-0</td><td> 0.02201515</td><td>-0.008530261</td><td>-0.006897807</td><td>0.02745358</td><td> 0.017448294</td><td>-0.004379551</td><td>-0.08090162</td><td>-0.007961799</td><td>-0.01346758</td><td>⋯</td><td>-0.003171649</td><td>-0.009250876</td><td> 0.007137157</td><td>-0.0076687468</td><td> 0.021669337</td><td> 0.01658212</td><td>-0.01654707</td><td>-0.009357040</td><td>-0.02263874</td><td>Progressor</td></tr>\n",
       "</tbody>\n",
       "</table>\n"
      ],
      "text/latex": [
       "A data.frame: 5 × 989\n",
       "\\begin{tabular}{r|lllllllllllllllllllll}\n",
       "  & ID & X1.REACTOME\\_MRNA\\_SPLICING & X2.SVM.Monocytes & X3.REACTOME\\_TRANSMISSION\\_ACROSS\\_CHEMICAL\\_SYNAPSES & X4.REACTOME\\_NEURONAL\\_SYSTEM & LV.5 & LV.6 & X7.IRIS\\_Neutrophil.Resting & X8.KEGG\\_PPAR\\_SIGNALING\\_PATHWAY & LV.9 & ⋯ & LV.979 & LV.980 & LV.981 & LV.982 & LV.983 & LV.984 & X985.IRIS\\_Neutrophil.Resting & LV.986 & LV.987 & Group\\\\\n",
       "  & <chr> & <dbl> & <dbl> & <dbl> & <dbl> & <dbl> & <dbl> & <dbl> & <dbl> & <dbl> & ⋯ & <dbl> & <dbl> & <dbl> & <dbl> & <dbl> & <dbl> & <dbl> & <dbl> & <dbl> & <chr>\\\\\n",
       "\\hline\n",
       "\t1 & 00041-0 &  0.04574803 &  0.104307804 & -0.034338781 & 0.05637729 & -0.006014439 &  0.013141592 & -0.15869934 & -0.014859012 & -0.03240155 & ⋯ &  0.034137770 &  0.036996881 &  0.039953190 &  0.0001208903 &  0.008096008 & -0.28650232 & -0.16010377 & -0.016496984 & -0.01857530 & Maintainer\\\\\n",
       "\t2 & 00110-0 & -0.08426191 &  0.026277343 & -0.021415299 & 0.04507367 &  0.007702120 &  0.040915288 &  0.06129902 &  0.032181881 & -0.08186520 & ⋯ & -0.008798991 & -0.005897529 & -0.023566109 & -0.0156890102 & -0.030152906 & -0.47237525 &  0.16645707 &  0.005320207 &  0.04090875 & Reverter  \\\\\n",
       "\t3 & 00139-0 & -0.07769718 & -0.049913741 & -0.102291965 & 0.09735670 & -0.023535277 &  0.033234436 & -0.06710881 &  0.008868332 & -0.08689146 & ⋯ &  0.004060664 &  0.012191500 &  0.008133505 &  0.0115797178 &  0.007200402 & -0.01228895 &  0.16295813 &  0.020930740 &  0.02287022 & Reverter  \\\\\n",
       "\t4 & 00159-0 & -0.07853920 &  0.266457766 & -0.004261070 & 0.04125927 &  0.010785959 & -0.026479309 &  0.04325244 &  0.005756415 & -0.02808686 & ⋯ &  0.016373535 &  0.006476112 &  0.025129735 &  0.0283485458 & -0.022585673 & -0.36083597 &  0.18419112 & -0.050503989 &  0.03623584 & Maintainer\\\\\n",
       "\t5 & 00174-0 &  0.02201515 & -0.008530261 & -0.006897807 & 0.02745358 &  0.017448294 & -0.004379551 & -0.08090162 & -0.007961799 & -0.01346758 & ⋯ & -0.003171649 & -0.009250876 &  0.007137157 & -0.0076687468 &  0.021669337 &  0.01658212 & -0.01654707 & -0.009357040 & -0.02263874 & Progressor\\\\\n",
       "\\end{tabular}\n"
      ],
      "text/markdown": [
       "\n",
       "A data.frame: 5 × 989\n",
       "\n",
       "| <!--/--> | ID &lt;chr&gt; | X1.REACTOME_MRNA_SPLICING &lt;dbl&gt; | X2.SVM.Monocytes &lt;dbl&gt; | X3.REACTOME_TRANSMISSION_ACROSS_CHEMICAL_SYNAPSES &lt;dbl&gt; | X4.REACTOME_NEURONAL_SYSTEM &lt;dbl&gt; | LV.5 &lt;dbl&gt; | LV.6 &lt;dbl&gt; | X7.IRIS_Neutrophil.Resting &lt;dbl&gt; | X8.KEGG_PPAR_SIGNALING_PATHWAY &lt;dbl&gt; | LV.9 &lt;dbl&gt; | ⋯ ⋯ | LV.979 &lt;dbl&gt; | LV.980 &lt;dbl&gt; | LV.981 &lt;dbl&gt; | LV.982 &lt;dbl&gt; | LV.983 &lt;dbl&gt; | LV.984 &lt;dbl&gt; | X985.IRIS_Neutrophil.Resting &lt;dbl&gt; | LV.986 &lt;dbl&gt; | LV.987 &lt;dbl&gt; | Group &lt;chr&gt; |\n",
       "|---|---|---|---|---|---|---|---|---|---|---|---|---|---|---|---|---|---|---|---|---|---|\n",
       "| 1 | 00041-0 |  0.04574803 |  0.104307804 | -0.034338781 | 0.05637729 | -0.006014439 |  0.013141592 | -0.15869934 | -0.014859012 | -0.03240155 | ⋯ |  0.034137770 |  0.036996881 |  0.039953190 |  0.0001208903 |  0.008096008 | -0.28650232 | -0.16010377 | -0.016496984 | -0.01857530 | Maintainer |\n",
       "| 2 | 00110-0 | -0.08426191 |  0.026277343 | -0.021415299 | 0.04507367 |  0.007702120 |  0.040915288 |  0.06129902 |  0.032181881 | -0.08186520 | ⋯ | -0.008798991 | -0.005897529 | -0.023566109 | -0.0156890102 | -0.030152906 | -0.47237525 |  0.16645707 |  0.005320207 |  0.04090875 | Reverter   |\n",
       "| 3 | 00139-0 | -0.07769718 | -0.049913741 | -0.102291965 | 0.09735670 | -0.023535277 |  0.033234436 | -0.06710881 |  0.008868332 | -0.08689146 | ⋯ |  0.004060664 |  0.012191500 |  0.008133505 |  0.0115797178 |  0.007200402 | -0.01228895 |  0.16295813 |  0.020930740 |  0.02287022 | Reverter   |\n",
       "| 4 | 00159-0 | -0.07853920 |  0.266457766 | -0.004261070 | 0.04125927 |  0.010785959 | -0.026479309 |  0.04325244 |  0.005756415 | -0.02808686 | ⋯ |  0.016373535 |  0.006476112 |  0.025129735 |  0.0283485458 | -0.022585673 | -0.36083597 |  0.18419112 | -0.050503989 |  0.03623584 | Maintainer |\n",
       "| 5 | 00174-0 |  0.02201515 | -0.008530261 | -0.006897807 | 0.02745358 |  0.017448294 | -0.004379551 | -0.08090162 | -0.007961799 | -0.01346758 | ⋯ | -0.003171649 | -0.009250876 |  0.007137157 | -0.0076687468 |  0.021669337 |  0.01658212 | -0.01654707 | -0.009357040 | -0.02263874 | Progressor |\n",
       "\n"
      ],
      "text/plain": [
       "  ID      X1.REACTOME_MRNA_SPLICING X2.SVM.Monocytes\n",
       "1 00041-0  0.04574803                0.104307804    \n",
       "2 00110-0 -0.08426191                0.026277343    \n",
       "3 00139-0 -0.07769718               -0.049913741    \n",
       "4 00159-0 -0.07853920                0.266457766    \n",
       "5 00174-0  0.02201515               -0.008530261    \n",
       "  X3.REACTOME_TRANSMISSION_ACROSS_CHEMICAL_SYNAPSES X4.REACTOME_NEURONAL_SYSTEM\n",
       "1 -0.034338781                                      0.05637729                 \n",
       "2 -0.021415299                                      0.04507367                 \n",
       "3 -0.102291965                                      0.09735670                 \n",
       "4 -0.004261070                                      0.04125927                 \n",
       "5 -0.006897807                                      0.02745358                 \n",
       "  LV.5         LV.6         X7.IRIS_Neutrophil.Resting\n",
       "1 -0.006014439  0.013141592 -0.15869934               \n",
       "2  0.007702120  0.040915288  0.06129902               \n",
       "3 -0.023535277  0.033234436 -0.06710881               \n",
       "4  0.010785959 -0.026479309  0.04325244               \n",
       "5  0.017448294 -0.004379551 -0.08090162               \n",
       "  X8.KEGG_PPAR_SIGNALING_PATHWAY LV.9        ⋯ LV.979       LV.980      \n",
       "1 -0.014859012                   -0.03240155 ⋯  0.034137770  0.036996881\n",
       "2  0.032181881                   -0.08186520 ⋯ -0.008798991 -0.005897529\n",
       "3  0.008868332                   -0.08689146 ⋯  0.004060664  0.012191500\n",
       "4  0.005756415                   -0.02808686 ⋯  0.016373535  0.006476112\n",
       "5 -0.007961799                   -0.01346758 ⋯ -0.003171649 -0.009250876\n",
       "  LV.981       LV.982        LV.983       LV.984     \n",
       "1  0.039953190  0.0001208903  0.008096008 -0.28650232\n",
       "2 -0.023566109 -0.0156890102 -0.030152906 -0.47237525\n",
       "3  0.008133505  0.0115797178  0.007200402 -0.01228895\n",
       "4  0.025129735  0.0283485458 -0.022585673 -0.36083597\n",
       "5  0.007137157 -0.0076687468  0.021669337  0.01658212\n",
       "  X985.IRIS_Neutrophil.Resting LV.986       LV.987      Group     \n",
       "1 -0.16010377                  -0.016496984 -0.01857530 Maintainer\n",
       "2  0.16645707                   0.005320207  0.04090875 Reverter  \n",
       "3  0.16295813                   0.020930740  0.02287022 Reverter  \n",
       "4  0.18419112                  -0.050503989  0.03623584 Maintainer\n",
       "5 -0.01654707                  -0.009357040 -0.02263874 Progressor"
      ]
     },
     "metadata": {},
     "output_type": "display_data"
    }
   ],
   "source": [
    "head(RNA_proj_group,5)\n",
    "RNA_proj_group$Group <- ordered(RNA_proj_group$Group,\n",
    "                         levels = c(\"Maintainer\", \"Reverter\", \"Progressor\"))"
   ]
  },
  {
   "cell_type": "code",
   "execution_count": 54,
   "metadata": {},
   "outputs": [
    {
     "data": {
      "text/html": [
       "<table class=\"dataframe\">\n",
       "<caption>A data.frame: 136 × 2</caption>\n",
       "<thead>\n",
       "\t<tr><th></th><th scope=col>Group</th><th scope=col>LV.986</th></tr>\n",
       "\t<tr><th></th><th scope=col>&lt;ord&gt;</th><th scope=col>&lt;dbl&gt;</th></tr>\n",
       "</thead>\n",
       "<tbody>\n",
       "\t<tr><th scope=row>1</th><td>Maintainer</td><td>-0.016496984</td></tr>\n",
       "\t<tr><th scope=row>2</th><td>Reverter  </td><td> 0.005320207</td></tr>\n",
       "\t<tr><th scope=row>3</th><td>Reverter  </td><td> 0.020930740</td></tr>\n",
       "\t<tr><th scope=row>4</th><td>Maintainer</td><td>-0.050503989</td></tr>\n",
       "\t<tr><th scope=row>5</th><td>Progressor</td><td>-0.009357040</td></tr>\n",
       "\t<tr><th scope=row>6</th><td>Reverter  </td><td> 0.021209632</td></tr>\n",
       "\t<tr><th scope=row>7</th><td>Maintainer</td><td> 0.038869057</td></tr>\n",
       "\t<tr><th scope=row>8</th><td>Maintainer</td><td> 0.029849840</td></tr>\n",
       "\t<tr><th scope=row>9</th><td>Maintainer</td><td> 0.021187604</td></tr>\n",
       "\t<tr><th scope=row>10</th><td>Maintainer</td><td> 0.011452913</td></tr>\n",
       "\t<tr><th scope=row>11</th><td>Reverter  </td><td>-0.010114043</td></tr>\n",
       "\t<tr><th scope=row>12</th><td>Progressor</td><td>-0.025142746</td></tr>\n",
       "\t<tr><th scope=row>13</th><td>Maintainer</td><td>-0.003733407</td></tr>\n",
       "\t<tr><th scope=row>14</th><td>Reverter  </td><td>-0.071244959</td></tr>\n",
       "\t<tr><th scope=row>15</th><td>Progressor</td><td>-0.049296691</td></tr>\n",
       "\t<tr><th scope=row>16</th><td>Maintainer</td><td> 0.024943052</td></tr>\n",
       "\t<tr><th scope=row>17</th><td>Maintainer</td><td> 0.055938107</td></tr>\n",
       "\t<tr><th scope=row>18</th><td>Reverter  </td><td> 0.003736546</td></tr>\n",
       "\t<tr><th scope=row>19</th><td>Progressor</td><td> 0.034420302</td></tr>\n",
       "\t<tr><th scope=row>20</th><td>Reverter  </td><td> 0.052458634</td></tr>\n",
       "\t<tr><th scope=row>21</th><td>Maintainer</td><td>-0.011636061</td></tr>\n",
       "\t<tr><th scope=row>22</th><td>Reverter  </td><td> 0.007345999</td></tr>\n",
       "\t<tr><th scope=row>23</th><td>Reverter  </td><td>-0.003028695</td></tr>\n",
       "\t<tr><th scope=row>24</th><td>Maintainer</td><td>-0.006881770</td></tr>\n",
       "\t<tr><th scope=row>25</th><td>Progressor</td><td>-0.025828919</td></tr>\n",
       "\t<tr><th scope=row>26</th><td>Reverter  </td><td>-0.033913462</td></tr>\n",
       "\t<tr><th scope=row>27</th><td>Reverter  </td><td>-0.009607173</td></tr>\n",
       "\t<tr><th scope=row>28</th><td>Maintainer</td><td>-0.022952160</td></tr>\n",
       "\t<tr><th scope=row>29</th><td>Maintainer</td><td> 0.003926910</td></tr>\n",
       "\t<tr><th scope=row>30</th><td>Progressor</td><td> 0.035684161</td></tr>\n",
       "\t<tr><th scope=row>⋮</th><td>⋮</td><td>⋮</td></tr>\n",
       "\t<tr><th scope=row>107</th><td>Progressor</td><td> 0.0066761524</td></tr>\n",
       "\t<tr><th scope=row>108</th><td>Maintainer</td><td> 0.0132581112</td></tr>\n",
       "\t<tr><th scope=row>109</th><td>Reverter  </td><td> 0.0123933083</td></tr>\n",
       "\t<tr><th scope=row>110</th><td>Maintainer</td><td> 0.0219101829</td></tr>\n",
       "\t<tr><th scope=row>111</th><td>Maintainer</td><td> 0.0004094050</td></tr>\n",
       "\t<tr><th scope=row>112</th><td>Reverter  </td><td> 0.0056224273</td></tr>\n",
       "\t<tr><th scope=row>113</th><td>Maintainer</td><td>-0.0183835639</td></tr>\n",
       "\t<tr><th scope=row>114</th><td>Progressor</td><td> 0.0099318896</td></tr>\n",
       "\t<tr><th scope=row>115</th><td>Progressor</td><td> 0.0286542576</td></tr>\n",
       "\t<tr><th scope=row>116</th><td>Reverter  </td><td> 0.0315524672</td></tr>\n",
       "\t<tr><th scope=row>117</th><td>Progressor</td><td> 0.0008870014</td></tr>\n",
       "\t<tr><th scope=row>118</th><td>Reverter  </td><td> 0.0034499586</td></tr>\n",
       "\t<tr><th scope=row>119</th><td>Reverter  </td><td>-0.0044147001</td></tr>\n",
       "\t<tr><th scope=row>120</th><td>Progressor</td><td>-0.0294122416</td></tr>\n",
       "\t<tr><th scope=row>121</th><td>Maintainer</td><td> 0.0215216076</td></tr>\n",
       "\t<tr><th scope=row>122</th><td>Maintainer</td><td> 0.0008432097</td></tr>\n",
       "\t<tr><th scope=row>123</th><td>Progressor</td><td> 0.0300548358</td></tr>\n",
       "\t<tr><th scope=row>124</th><td>Maintainer</td><td>-0.0065439058</td></tr>\n",
       "\t<tr><th scope=row>125</th><td>Maintainer</td><td>-0.0404527558</td></tr>\n",
       "\t<tr><th scope=row>126</th><td>Progressor</td><td>-0.0171473833</td></tr>\n",
       "\t<tr><th scope=row>127</th><td>Reverter  </td><td>-0.0189263547</td></tr>\n",
       "\t<tr><th scope=row>128</th><td>Reverter  </td><td>-0.0280008843</td></tr>\n",
       "\t<tr><th scope=row>129</th><td>Reverter  </td><td>-0.0178560002</td></tr>\n",
       "\t<tr><th scope=row>130</th><td>Reverter  </td><td> 0.0279589719</td></tr>\n",
       "\t<tr><th scope=row>131</th><td>Reverter  </td><td> 0.0254749217</td></tr>\n",
       "\t<tr><th scope=row>132</th><td>Progressor</td><td>-0.0168135312</td></tr>\n",
       "\t<tr><th scope=row>133</th><td>Reverter  </td><td> 0.0192029608</td></tr>\n",
       "\t<tr><th scope=row>134</th><td>Reverter  </td><td> 0.0174576131</td></tr>\n",
       "\t<tr><th scope=row>135</th><td>Progressor</td><td> 0.0072680145</td></tr>\n",
       "\t<tr><th scope=row>136</th><td>Maintainer</td><td>-0.0221037737</td></tr>\n",
       "</tbody>\n",
       "</table>\n"
      ],
      "text/latex": [
       "A data.frame: 136 × 2\n",
       "\\begin{tabular}{r|ll}\n",
       "  & Group & LV.986\\\\\n",
       "  & <ord> & <dbl>\\\\\n",
       "\\hline\n",
       "\t1 & Maintainer & -0.016496984\\\\\n",
       "\t2 & Reverter   &  0.005320207\\\\\n",
       "\t3 & Reverter   &  0.020930740\\\\\n",
       "\t4 & Maintainer & -0.050503989\\\\\n",
       "\t5 & Progressor & -0.009357040\\\\\n",
       "\t6 & Reverter   &  0.021209632\\\\\n",
       "\t7 & Maintainer &  0.038869057\\\\\n",
       "\t8 & Maintainer &  0.029849840\\\\\n",
       "\t9 & Maintainer &  0.021187604\\\\\n",
       "\t10 & Maintainer &  0.011452913\\\\\n",
       "\t11 & Reverter   & -0.010114043\\\\\n",
       "\t12 & Progressor & -0.025142746\\\\\n",
       "\t13 & Maintainer & -0.003733407\\\\\n",
       "\t14 & Reverter   & -0.071244959\\\\\n",
       "\t15 & Progressor & -0.049296691\\\\\n",
       "\t16 & Maintainer &  0.024943052\\\\\n",
       "\t17 & Maintainer &  0.055938107\\\\\n",
       "\t18 & Reverter   &  0.003736546\\\\\n",
       "\t19 & Progressor &  0.034420302\\\\\n",
       "\t20 & Reverter   &  0.052458634\\\\\n",
       "\t21 & Maintainer & -0.011636061\\\\\n",
       "\t22 & Reverter   &  0.007345999\\\\\n",
       "\t23 & Reverter   & -0.003028695\\\\\n",
       "\t24 & Maintainer & -0.006881770\\\\\n",
       "\t25 & Progressor & -0.025828919\\\\\n",
       "\t26 & Reverter   & -0.033913462\\\\\n",
       "\t27 & Reverter   & -0.009607173\\\\\n",
       "\t28 & Maintainer & -0.022952160\\\\\n",
       "\t29 & Maintainer &  0.003926910\\\\\n",
       "\t30 & Progressor &  0.035684161\\\\\n",
       "\t⋮ & ⋮ & ⋮\\\\\n",
       "\t107 & Progressor &  0.0066761524\\\\\n",
       "\t108 & Maintainer &  0.0132581112\\\\\n",
       "\t109 & Reverter   &  0.0123933083\\\\\n",
       "\t110 & Maintainer &  0.0219101829\\\\\n",
       "\t111 & Maintainer &  0.0004094050\\\\\n",
       "\t112 & Reverter   &  0.0056224273\\\\\n",
       "\t113 & Maintainer & -0.0183835639\\\\\n",
       "\t114 & Progressor &  0.0099318896\\\\\n",
       "\t115 & Progressor &  0.0286542576\\\\\n",
       "\t116 & Reverter   &  0.0315524672\\\\\n",
       "\t117 & Progressor &  0.0008870014\\\\\n",
       "\t118 & Reverter   &  0.0034499586\\\\\n",
       "\t119 & Reverter   & -0.0044147001\\\\\n",
       "\t120 & Progressor & -0.0294122416\\\\\n",
       "\t121 & Maintainer &  0.0215216076\\\\\n",
       "\t122 & Maintainer &  0.0008432097\\\\\n",
       "\t123 & Progressor &  0.0300548358\\\\\n",
       "\t124 & Maintainer & -0.0065439058\\\\\n",
       "\t125 & Maintainer & -0.0404527558\\\\\n",
       "\t126 & Progressor & -0.0171473833\\\\\n",
       "\t127 & Reverter   & -0.0189263547\\\\\n",
       "\t128 & Reverter   & -0.0280008843\\\\\n",
       "\t129 & Reverter   & -0.0178560002\\\\\n",
       "\t130 & Reverter   &  0.0279589719\\\\\n",
       "\t131 & Reverter   &  0.0254749217\\\\\n",
       "\t132 & Progressor & -0.0168135312\\\\\n",
       "\t133 & Reverter   &  0.0192029608\\\\\n",
       "\t134 & Reverter   &  0.0174576131\\\\\n",
       "\t135 & Progressor &  0.0072680145\\\\\n",
       "\t136 & Maintainer & -0.0221037737\\\\\n",
       "\\end{tabular}\n"
      ],
      "text/markdown": [
       "\n",
       "A data.frame: 136 × 2\n",
       "\n",
       "| <!--/--> | Group &lt;ord&gt; | LV.986 &lt;dbl&gt; |\n",
       "|---|---|---|\n",
       "| 1 | Maintainer | -0.016496984 |\n",
       "| 2 | Reverter   |  0.005320207 |\n",
       "| 3 | Reverter   |  0.020930740 |\n",
       "| 4 | Maintainer | -0.050503989 |\n",
       "| 5 | Progressor | -0.009357040 |\n",
       "| 6 | Reverter   |  0.021209632 |\n",
       "| 7 | Maintainer |  0.038869057 |\n",
       "| 8 | Maintainer |  0.029849840 |\n",
       "| 9 | Maintainer |  0.021187604 |\n",
       "| 10 | Maintainer |  0.011452913 |\n",
       "| 11 | Reverter   | -0.010114043 |\n",
       "| 12 | Progressor | -0.025142746 |\n",
       "| 13 | Maintainer | -0.003733407 |\n",
       "| 14 | Reverter   | -0.071244959 |\n",
       "| 15 | Progressor | -0.049296691 |\n",
       "| 16 | Maintainer |  0.024943052 |\n",
       "| 17 | Maintainer |  0.055938107 |\n",
       "| 18 | Reverter   |  0.003736546 |\n",
       "| 19 | Progressor |  0.034420302 |\n",
       "| 20 | Reverter   |  0.052458634 |\n",
       "| 21 | Maintainer | -0.011636061 |\n",
       "| 22 | Reverter   |  0.007345999 |\n",
       "| 23 | Reverter   | -0.003028695 |\n",
       "| 24 | Maintainer | -0.006881770 |\n",
       "| 25 | Progressor | -0.025828919 |\n",
       "| 26 | Reverter   | -0.033913462 |\n",
       "| 27 | Reverter   | -0.009607173 |\n",
       "| 28 | Maintainer | -0.022952160 |\n",
       "| 29 | Maintainer |  0.003926910 |\n",
       "| 30 | Progressor |  0.035684161 |\n",
       "| ⋮ | ⋮ | ⋮ |\n",
       "| 107 | Progressor |  0.0066761524 |\n",
       "| 108 | Maintainer |  0.0132581112 |\n",
       "| 109 | Reverter   |  0.0123933083 |\n",
       "| 110 | Maintainer |  0.0219101829 |\n",
       "| 111 | Maintainer |  0.0004094050 |\n",
       "| 112 | Reverter   |  0.0056224273 |\n",
       "| 113 | Maintainer | -0.0183835639 |\n",
       "| 114 | Progressor |  0.0099318896 |\n",
       "| 115 | Progressor |  0.0286542576 |\n",
       "| 116 | Reverter   |  0.0315524672 |\n",
       "| 117 | Progressor |  0.0008870014 |\n",
       "| 118 | Reverter   |  0.0034499586 |\n",
       "| 119 | Reverter   | -0.0044147001 |\n",
       "| 120 | Progressor | -0.0294122416 |\n",
       "| 121 | Maintainer |  0.0215216076 |\n",
       "| 122 | Maintainer |  0.0008432097 |\n",
       "| 123 | Progressor |  0.0300548358 |\n",
       "| 124 | Maintainer | -0.0065439058 |\n",
       "| 125 | Maintainer | -0.0404527558 |\n",
       "| 126 | Progressor | -0.0171473833 |\n",
       "| 127 | Reverter   | -0.0189263547 |\n",
       "| 128 | Reverter   | -0.0280008843 |\n",
       "| 129 | Reverter   | -0.0178560002 |\n",
       "| 130 | Reverter   |  0.0279589719 |\n",
       "| 131 | Reverter   |  0.0254749217 |\n",
       "| 132 | Progressor | -0.0168135312 |\n",
       "| 133 | Reverter   |  0.0192029608 |\n",
       "| 134 | Reverter   |  0.0174576131 |\n",
       "| 135 | Progressor |  0.0072680145 |\n",
       "| 136 | Maintainer | -0.0221037737 |\n",
       "\n"
      ],
      "text/plain": [
       "    Group      LV.986       \n",
       "1   Maintainer -0.016496984 \n",
       "2   Reverter    0.005320207 \n",
       "3   Reverter    0.020930740 \n",
       "4   Maintainer -0.050503989 \n",
       "5   Progressor -0.009357040 \n",
       "6   Reverter    0.021209632 \n",
       "7   Maintainer  0.038869057 \n",
       "8   Maintainer  0.029849840 \n",
       "9   Maintainer  0.021187604 \n",
       "10  Maintainer  0.011452913 \n",
       "11  Reverter   -0.010114043 \n",
       "12  Progressor -0.025142746 \n",
       "13  Maintainer -0.003733407 \n",
       "14  Reverter   -0.071244959 \n",
       "15  Progressor -0.049296691 \n",
       "16  Maintainer  0.024943052 \n",
       "17  Maintainer  0.055938107 \n",
       "18  Reverter    0.003736546 \n",
       "19  Progressor  0.034420302 \n",
       "20  Reverter    0.052458634 \n",
       "21  Maintainer -0.011636061 \n",
       "22  Reverter    0.007345999 \n",
       "23  Reverter   -0.003028695 \n",
       "24  Maintainer -0.006881770 \n",
       "25  Progressor -0.025828919 \n",
       "26  Reverter   -0.033913462 \n",
       "27  Reverter   -0.009607173 \n",
       "28  Maintainer -0.022952160 \n",
       "29  Maintainer  0.003926910 \n",
       "30  Progressor  0.035684161 \n",
       "⋮   ⋮          ⋮            \n",
       "107 Progressor  0.0066761524\n",
       "108 Maintainer  0.0132581112\n",
       "109 Reverter    0.0123933083\n",
       "110 Maintainer  0.0219101829\n",
       "111 Maintainer  0.0004094050\n",
       "112 Reverter    0.0056224273\n",
       "113 Maintainer -0.0183835639\n",
       "114 Progressor  0.0099318896\n",
       "115 Progressor  0.0286542576\n",
       "116 Reverter    0.0315524672\n",
       "117 Progressor  0.0008870014\n",
       "118 Reverter    0.0034499586\n",
       "119 Reverter   -0.0044147001\n",
       "120 Progressor -0.0294122416\n",
       "121 Maintainer  0.0215216076\n",
       "122 Maintainer  0.0008432097\n",
       "123 Progressor  0.0300548358\n",
       "124 Maintainer -0.0065439058\n",
       "125 Maintainer -0.0404527558\n",
       "126 Progressor -0.0171473833\n",
       "127 Reverter   -0.0189263547\n",
       "128 Reverter   -0.0280008843\n",
       "129 Reverter   -0.0178560002\n",
       "130 Reverter    0.0279589719\n",
       "131 Reverter    0.0254749217\n",
       "132 Progressor -0.0168135312\n",
       "133 Reverter    0.0192029608\n",
       "134 Reverter    0.0174576131\n",
       "135 Progressor  0.0072680145\n",
       "136 Maintainer -0.0221037737"
      ]
     },
     "metadata": {},
     "output_type": "display_data"
    }
   ],
   "source": [
    "to_plot <-RNA_proj_group[,c(\"Group\",\"LV.986\")] \n",
    "\n",
    "head(to_plot, 136)"
   ]
  },
  {
   "cell_type": "code",
   "execution_count": 57,
   "metadata": {},
   "outputs": [
    {
     "data": {
      "text/html": [
       "<style>\n",
       ".list-inline {list-style: none; margin:0; padding: 0}\n",
       ".list-inline>li {display: inline-block}\n",
       ".list-inline>li:not(:last-child)::after {content: \"\\00b7\"; padding: 0 .5ex}\n",
       "</style>\n",
       "<ol class=list-inline><li>'Group'</li><li>'LV.986'</li></ol>\n"
      ],
      "text/latex": [
       "\\begin{enumerate*}\n",
       "\\item 'Group'\n",
       "\\item 'LV.986'\n",
       "\\end{enumerate*}\n"
      ],
      "text/markdown": [
       "1. 'Group'\n",
       "2. 'LV.986'\n",
       "\n",
       "\n"
      ],
      "text/plain": [
       "[1] \"Group\"  \"LV.986\""
      ]
     },
     "metadata": {},
     "output_type": "display_data"
    },
    {
     "data": {
      "image/png": "[encoded data removed]",
      "text/plain": [
       "plot without title"
      ]
     },
     "metadata": {
      "image/png": {
       "height": 420,
       "width": 420
      }
     },
     "output_type": "display_data"
    }
   ],
   "source": [
    "colnames(to_plot)\n",
    "\n",
    "ggplot(to_plot, aes(x=Group, y=LV.986, fill=Group)) + \n",
    "  geom_boxplot()"
   ]
  },
  {
   "cell_type": "code",
   "execution_count": null,
   "metadata": {},
   "outputs": [],
   "source": [
    "res.aov <- aov(`LV 986` ~ Group, data = RNA_proj_group)"
   ]
  },
  {
   "cell_type": "code",
   "execution_count": 59,
   "metadata": {},
   "outputs": [
    {
     "data": {
      "image/png": "[encoded data removed]",
      "text/plain": [
       "plot without title"
      ]
     },
     "metadata": {
      "image/png": {
       "height": 420,
       "width": 420
      }
     },
     "output_type": "display_data"
    }
   ],
   "source": [
    "ggboxplot(to_plot, x = \"Group\", y = \"LV.986\", color = \"Group\", \n",
    "          add = \"jitter\", legend = \"none\") +\n",
    "  rotate_x_text(angle = 45)+\n",
    "  geom_hline(yintercept = mean(to_plot$LV.986), linetype = 2)+ # Add horizontal line at base mean\n",
    "  stat_compare_means(method = \"anova\", label.y = 0.08)+        # Add global annova p-value\n",
    "  stat_compare_means(label = \"p.signif\", method = \"t.test\",\n",
    "                     ref.group = \".all.\")  "
   ]
  },
  {
   "cell_type": "code",
   "execution_count": 78,
   "metadata": {},
   "outputs": [],
   "source": [
    "res <- data.frame(matrix(nrow = 0, ncol = 8))\n",
    "\n",
    "for (i in 1:length(LV_col)){\n",
    "    comp_i <- compare_means(as.formula(paste0(LV_col[i],\" ~ Group\")),  data = RNA_proj_group,\n",
    "              ref.group = \".all.\", method = \"t.test\")\n",
    "    res <- rbind(res, comp_i)\n",
    "    }\n",
    "\n"
   ]
  },
  {
   "cell_type": "code",
   "execution_count": 80,
   "metadata": {},
   "outputs": [],
   "source": [
    "res_formated <- res[,c(1,3,4)]"
   ]
  },
  {
   "cell_type": "code",
   "execution_count": 85,
   "metadata": {},
   "outputs": [],
   "source": [
    "colnames(res_formated) <- c(\"LV\",\"Group\",\"p_val\")"
   ]
  },
  {
   "cell_type": "code",
   "execution_count": 91,
   "metadata": {},
   "outputs": [
    {
     "data": {
      "text/html": [
       "<table class=\"dataframe\">\n",
       "<caption>A tibble: 5 × 4</caption>\n",
       "<thead>\n",
       "\t<tr><th scope=col>LV</th><th scope=col>p_val_Maintainer</th><th scope=col>p_val_Reverter</th><th scope=col>p_val_Progressor</th></tr>\n",
       "\t<tr><th scope=col>&lt;chr&gt;</th><th scope=col>&lt;dbl&gt;</th><th scope=col>&lt;dbl&gt;</th><th scope=col>&lt;dbl&gt;</th></tr>\n",
       "</thead>\n",
       "<tbody>\n",
       "\t<tr><td>X1.REACTOME_MRNA_SPLICING                        </td><td>0.8070972</td><td>0.8836280</td><td>0.5028743</td></tr>\n",
       "\t<tr><td>X2.SVM.Monocytes                                 </td><td>0.3756811</td><td>0.6657942</td><td>0.3295037</td></tr>\n",
       "\t<tr><td>X3.REACTOME_TRANSMISSION_ACROSS_CHEMICAL_SYNAPSES</td><td>0.4837050</td><td>0.3869241</td><td>0.7410529</td></tr>\n",
       "\t<tr><td>X4.REACTOME_NEURONAL_SYSTEM                      </td><td>0.8950174</td><td>0.6761428</td><td>0.6853268</td></tr>\n",
       "\t<tr><td>LV.5                                             </td><td>0.5652165</td><td>0.9999818</td><td>0.2927908</td></tr>\n",
       "</tbody>\n",
       "</table>\n"
      ],
      "text/latex": [
       "A tibble: 5 × 4\n",
       "\\begin{tabular}{llll}\n",
       " LV & p\\_val\\_Maintainer & p\\_val\\_Reverter & p\\_val\\_Progressor\\\\\n",
       " <chr> & <dbl> & <dbl> & <dbl>\\\\\n",
       "\\hline\n",
       "\t X1.REACTOME\\_MRNA\\_SPLICING                         & 0.8070972 & 0.8836280 & 0.5028743\\\\\n",
       "\t X2.SVM.Monocytes                                  & 0.3756811 & 0.6657942 & 0.3295037\\\\\n",
       "\t X3.REACTOME\\_TRANSMISSION\\_ACROSS\\_CHEMICAL\\_SYNAPSES & 0.4837050 & 0.3869241 & 0.7410529\\\\\n",
       "\t X4.REACTOME\\_NEURONAL\\_SYSTEM                       & 0.8950174 & 0.6761428 & 0.6853268\\\\\n",
       "\t LV.5                                              & 0.5652165 & 0.9999818 & 0.2927908\\\\\n",
       "\\end{tabular}\n"
      ],
      "text/markdown": [
       "\n",
       "A tibble: 5 × 4\n",
       "\n",
       "| LV &lt;chr&gt; | p_val_Maintainer &lt;dbl&gt; | p_val_Reverter &lt;dbl&gt; | p_val_Progressor &lt;dbl&gt; |\n",
       "|---|---|---|---|\n",
       "| X1.REACTOME_MRNA_SPLICING                         | 0.8070972 | 0.8836280 | 0.5028743 |\n",
       "| X2.SVM.Monocytes                                  | 0.3756811 | 0.6657942 | 0.3295037 |\n",
       "| X3.REACTOME_TRANSMISSION_ACROSS_CHEMICAL_SYNAPSES | 0.4837050 | 0.3869241 | 0.7410529 |\n",
       "| X4.REACTOME_NEURONAL_SYSTEM                       | 0.8950174 | 0.6761428 | 0.6853268 |\n",
       "| LV.5                                              | 0.5652165 | 0.9999818 | 0.2927908 |\n",
       "\n"
      ],
      "text/plain": [
       "  LV                                                p_val_Maintainer\n",
       "1 X1.REACTOME_MRNA_SPLICING                         0.8070972       \n",
       "2 X2.SVM.Monocytes                                  0.3756811       \n",
       "3 X3.REACTOME_TRANSMISSION_ACROSS_CHEMICAL_SYNAPSES 0.4837050       \n",
       "4 X4.REACTOME_NEURONAL_SYSTEM                       0.8950174       \n",
       "5 LV.5                                              0.5652165       \n",
       "  p_val_Reverter p_val_Progressor\n",
       "1 0.8836280      0.5028743       \n",
       "2 0.6657942      0.3295037       \n",
       "3 0.3869241      0.7410529       \n",
       "4 0.6761428      0.6853268       \n",
       "5 0.9999818      0.2927908       "
      ]
     },
     "metadata": {},
     "output_type": "display_data"
    }
   ],
   "source": [
    "res_formated_wider <- pivot_wider(data = res_formated, id_cols = \"LV\",names_from = \"Group\" ,values_from =  \"p_val\",names_prefix = \"p_val_\")\n",
    "head(res_formated_wider,5)"
   ]
  },
  {
   "cell_type": "code",
   "execution_count": 89,
   "metadata": {},
   "outputs": [
    {
     "data": {
      "text/html": [
       "<style>\n",
       ".list-inline {list-style: none; margin:0; padding: 0}\n",
       ".list-inline>li {display: inline-block}\n",
       ".list-inline>li:not(:last-child)::after {content: \"\\00b7\"; padding: 0 .5ex}\n",
       "</style>\n",
       "<ol class=list-inline><li>987</li><li>4</li></ol>\n"
      ],
      "text/latex": [
       "\\begin{enumerate*}\n",
       "\\item 987\n",
       "\\item 4\n",
       "\\end{enumerate*}\n"
      ],
      "text/markdown": [
       "1. 987\n",
       "2. 4\n",
       "\n",
       "\n"
      ],
      "text/plain": [
       "[1] 987   4"
      ]
     },
     "metadata": {},
     "output_type": "display_data"
    }
   ],
   "source": [
    "dim(res_formated_wider)"
   ]
  },
  {
   "cell_type": "code",
   "execution_count": null,
   "metadata": {},
   "outputs": [],
   "source": []
  }
 ],
 "metadata": {
  "kernelspec": {
   "display_name": "R [conda env:T1D_Pheno] *",
   "language": "R",
   "name": "conda-env-T1D_Pheno-r"
  },
  "language_info": {
   "codemirror_mode": "r",
   "file_extension": ".r",
   "mimetype": "text/x-r-source",
   "name": "R",
   "pygments_lexer": "r",
   "version": "4.4.2"
  }
 },
 "nbformat": 4,
 "nbformat_minor": 4
}
